{
 "cells": [
  {
   "cell_type": "markdown",
   "metadata": {},
   "source": [
    "# Clasificación con Máquina De Véctores de Soporte y Redes de Neuronas"
   ]
  },
  {
   "cell_type": "markdown",
   "metadata": {},
   "source": [
    "<center> Alumno: <b>Eduardo Reyero Ibáñez</b> </center>"
   ]
  },
  {
   "cell_type": "markdown",
   "metadata": {},
   "source": [
    "## 1. Importar datos"
   ]
  },
  {
   "cell_type": "code",
   "execution_count": 3,
   "metadata": {},
   "outputs": [],
   "source": [
    "# Librerias\n",
    "import pandas as pd\n",
    "import numpy as np\n",
    "import missingno"
   ]
  },
  {
   "cell_type": "code",
   "execution_count": 4,
   "metadata": {
    "scrolled": true
   },
   "outputs": [
    {
     "name": "stdout",
     "output_type": "stream",
     "text": [
      "Dimensiones del dataset: (2000, 21)\n",
      "Observamos las primeras lineas:\n"
     ]
    },
    {
     "data": {
      "text/html": [
       "<div>\n",
       "<style scoped>\n",
       "    .dataframe tbody tr th:only-of-type {\n",
       "        vertical-align: middle;\n",
       "    }\n",
       "\n",
       "    .dataframe tbody tr th {\n",
       "        vertical-align: top;\n",
       "    }\n",
       "\n",
       "    .dataframe thead th {\n",
       "        text-align: right;\n",
       "    }\n",
       "</style>\n",
       "<table border=\"1\" class=\"dataframe\">\n",
       "  <thead>\n",
       "    <tr style=\"text-align: right;\">\n",
       "      <th></th>\n",
       "      <th>battery_power</th>\n",
       "      <th>blue</th>\n",
       "      <th>clock_speed</th>\n",
       "      <th>dual_sim</th>\n",
       "      <th>fc</th>\n",
       "      <th>four_g</th>\n",
       "      <th>int_memory</th>\n",
       "      <th>m_dep</th>\n",
       "      <th>mobile_wt</th>\n",
       "      <th>n_cores</th>\n",
       "      <th>...</th>\n",
       "      <th>px_height</th>\n",
       "      <th>px_width</th>\n",
       "      <th>ram</th>\n",
       "      <th>sc_h</th>\n",
       "      <th>sc_w</th>\n",
       "      <th>talk_time</th>\n",
       "      <th>three_g</th>\n",
       "      <th>touch_screen</th>\n",
       "      <th>wifi</th>\n",
       "      <th>price_range</th>\n",
       "    </tr>\n",
       "  </thead>\n",
       "  <tbody>\n",
       "    <tr>\n",
       "      <th>0</th>\n",
       "      <td>842</td>\n",
       "      <td>0</td>\n",
       "      <td>2.2</td>\n",
       "      <td>0</td>\n",
       "      <td>1</td>\n",
       "      <td>0</td>\n",
       "      <td>7</td>\n",
       "      <td>0.6</td>\n",
       "      <td>188</td>\n",
       "      <td>2</td>\n",
       "      <td>...</td>\n",
       "      <td>20</td>\n",
       "      <td>756</td>\n",
       "      <td>2549</td>\n",
       "      <td>9</td>\n",
       "      <td>7</td>\n",
       "      <td>19</td>\n",
       "      <td>0</td>\n",
       "      <td>0</td>\n",
       "      <td>1</td>\n",
       "      <td>1</td>\n",
       "    </tr>\n",
       "    <tr>\n",
       "      <th>1</th>\n",
       "      <td>1021</td>\n",
       "      <td>1</td>\n",
       "      <td>0.5</td>\n",
       "      <td>1</td>\n",
       "      <td>0</td>\n",
       "      <td>1</td>\n",
       "      <td>53</td>\n",
       "      <td>0.7</td>\n",
       "      <td>136</td>\n",
       "      <td>3</td>\n",
       "      <td>...</td>\n",
       "      <td>905</td>\n",
       "      <td>1988</td>\n",
       "      <td>2631</td>\n",
       "      <td>17</td>\n",
       "      <td>3</td>\n",
       "      <td>7</td>\n",
       "      <td>1</td>\n",
       "      <td>1</td>\n",
       "      <td>0</td>\n",
       "      <td>2</td>\n",
       "    </tr>\n",
       "    <tr>\n",
       "      <th>2</th>\n",
       "      <td>563</td>\n",
       "      <td>1</td>\n",
       "      <td>0.5</td>\n",
       "      <td>1</td>\n",
       "      <td>2</td>\n",
       "      <td>1</td>\n",
       "      <td>41</td>\n",
       "      <td>0.9</td>\n",
       "      <td>145</td>\n",
       "      <td>5</td>\n",
       "      <td>...</td>\n",
       "      <td>1263</td>\n",
       "      <td>1716</td>\n",
       "      <td>2603</td>\n",
       "      <td>11</td>\n",
       "      <td>2</td>\n",
       "      <td>9</td>\n",
       "      <td>1</td>\n",
       "      <td>1</td>\n",
       "      <td>0</td>\n",
       "      <td>2</td>\n",
       "    </tr>\n",
       "    <tr>\n",
       "      <th>3</th>\n",
       "      <td>615</td>\n",
       "      <td>1</td>\n",
       "      <td>2.5</td>\n",
       "      <td>0</td>\n",
       "      <td>0</td>\n",
       "      <td>0</td>\n",
       "      <td>10</td>\n",
       "      <td>0.8</td>\n",
       "      <td>131</td>\n",
       "      <td>6</td>\n",
       "      <td>...</td>\n",
       "      <td>1216</td>\n",
       "      <td>1786</td>\n",
       "      <td>2769</td>\n",
       "      <td>16</td>\n",
       "      <td>8</td>\n",
       "      <td>11</td>\n",
       "      <td>1</td>\n",
       "      <td>0</td>\n",
       "      <td>0</td>\n",
       "      <td>2</td>\n",
       "    </tr>\n",
       "    <tr>\n",
       "      <th>4</th>\n",
       "      <td>1821</td>\n",
       "      <td>1</td>\n",
       "      <td>1.2</td>\n",
       "      <td>0</td>\n",
       "      <td>13</td>\n",
       "      <td>1</td>\n",
       "      <td>44</td>\n",
       "      <td>0.6</td>\n",
       "      <td>141</td>\n",
       "      <td>2</td>\n",
       "      <td>...</td>\n",
       "      <td>1208</td>\n",
       "      <td>1212</td>\n",
       "      <td>1411</td>\n",
       "      <td>8</td>\n",
       "      <td>2</td>\n",
       "      <td>15</td>\n",
       "      <td>1</td>\n",
       "      <td>1</td>\n",
       "      <td>0</td>\n",
       "      <td>1</td>\n",
       "    </tr>\n",
       "  </tbody>\n",
       "</table>\n",
       "<p>5 rows × 21 columns</p>\n",
       "</div>"
      ],
      "text/plain": [
       "   battery_power  blue  clock_speed  dual_sim  fc  four_g  int_memory  m_dep  \\\n",
       "0            842     0          2.2         0   1       0           7    0.6   \n",
       "1           1021     1          0.5         1   0       1          53    0.7   \n",
       "2            563     1          0.5         1   2       1          41    0.9   \n",
       "3            615     1          2.5         0   0       0          10    0.8   \n",
       "4           1821     1          1.2         0  13       1          44    0.6   \n",
       "\n",
       "   mobile_wt  n_cores  ...  px_height  px_width   ram  sc_h  sc_w  talk_time  \\\n",
       "0        188        2  ...         20       756  2549     9     7         19   \n",
       "1        136        3  ...        905      1988  2631    17     3          7   \n",
       "2        145        5  ...       1263      1716  2603    11     2          9   \n",
       "3        131        6  ...       1216      1786  2769    16     8         11   \n",
       "4        141        2  ...       1208      1212  1411     8     2         15   \n",
       "\n",
       "   three_g  touch_screen  wifi  price_range  \n",
       "0        0             0     1            1  \n",
       "1        1             1     0            2  \n",
       "2        1             1     0            2  \n",
       "3        1             0     0            2  \n",
       "4        1             1     0            1  \n",
       "\n",
       "[5 rows x 21 columns]"
      ]
     },
     "execution_count": 4,
     "metadata": {},
     "output_type": "execute_result"
    }
   ],
   "source": [
    "# Importar dataset\n",
    "mobile_df = pd.read_csv('datasets_train.csv')\n",
    "print('Dimensiones del dataset: {}'.format(mobile_df.shape))\n",
    "print ('Observamos las primeras lineas:')\n",
    "mobile_df.head()"
   ]
  },
  {
   "cell_type": "markdown",
   "metadata": {},
   "source": [
    "## 2. Análisis descriptivo de los datos"
   ]
  },
  {
   "cell_type": "markdown",
   "metadata": {},
   "source": [
    "### 2.1 Variables numéricas"
   ]
  },
  {
   "cell_type": "code",
   "execution_count": 5,
   "metadata": {},
   "outputs": [
    {
     "data": {
      "text/html": [
       "<div>\n",
       "<style scoped>\n",
       "    .dataframe tbody tr th:only-of-type {\n",
       "        vertical-align: middle;\n",
       "    }\n",
       "\n",
       "    .dataframe tbody tr th {\n",
       "        vertical-align: top;\n",
       "    }\n",
       "\n",
       "    .dataframe thead th {\n",
       "        text-align: right;\n",
       "    }\n",
       "</style>\n",
       "<table border=\"1\" class=\"dataframe\">\n",
       "  <thead>\n",
       "    <tr style=\"text-align: right;\">\n",
       "      <th></th>\n",
       "      <th>count</th>\n",
       "      <th>mean</th>\n",
       "      <th>std</th>\n",
       "      <th>min</th>\n",
       "      <th>25%</th>\n",
       "      <th>50%</th>\n",
       "      <th>75%</th>\n",
       "      <th>max</th>\n",
       "      <th>median</th>\n",
       "    </tr>\n",
       "  </thead>\n",
       "  <tbody>\n",
       "    <tr>\n",
       "      <th>battery_power</th>\n",
       "      <td>2000.0</td>\n",
       "      <td>1238.51850</td>\n",
       "      <td>439.418206</td>\n",
       "      <td>501.0</td>\n",
       "      <td>851.75</td>\n",
       "      <td>1226.0</td>\n",
       "      <td>1615.25</td>\n",
       "      <td>1998.0</td>\n",
       "      <td>1226.0</td>\n",
       "    </tr>\n",
       "    <tr>\n",
       "      <th>blue</th>\n",
       "      <td>2000.0</td>\n",
       "      <td>0.49500</td>\n",
       "      <td>0.500100</td>\n",
       "      <td>0.0</td>\n",
       "      <td>0.00</td>\n",
       "      <td>0.0</td>\n",
       "      <td>1.00</td>\n",
       "      <td>1.0</td>\n",
       "      <td>0.0</td>\n",
       "    </tr>\n",
       "    <tr>\n",
       "      <th>clock_speed</th>\n",
       "      <td>2000.0</td>\n",
       "      <td>1.52225</td>\n",
       "      <td>0.816004</td>\n",
       "      <td>0.5</td>\n",
       "      <td>0.70</td>\n",
       "      <td>1.5</td>\n",
       "      <td>2.20</td>\n",
       "      <td>3.0</td>\n",
       "      <td>1.5</td>\n",
       "    </tr>\n",
       "    <tr>\n",
       "      <th>dual_sim</th>\n",
       "      <td>2000.0</td>\n",
       "      <td>0.50950</td>\n",
       "      <td>0.500035</td>\n",
       "      <td>0.0</td>\n",
       "      <td>0.00</td>\n",
       "      <td>1.0</td>\n",
       "      <td>1.00</td>\n",
       "      <td>1.0</td>\n",
       "      <td>1.0</td>\n",
       "    </tr>\n",
       "    <tr>\n",
       "      <th>fc</th>\n",
       "      <td>2000.0</td>\n",
       "      <td>4.30950</td>\n",
       "      <td>4.341444</td>\n",
       "      <td>0.0</td>\n",
       "      <td>1.00</td>\n",
       "      <td>3.0</td>\n",
       "      <td>7.00</td>\n",
       "      <td>19.0</td>\n",
       "      <td>3.0</td>\n",
       "    </tr>\n",
       "    <tr>\n",
       "      <th>four_g</th>\n",
       "      <td>2000.0</td>\n",
       "      <td>0.52150</td>\n",
       "      <td>0.499662</td>\n",
       "      <td>0.0</td>\n",
       "      <td>0.00</td>\n",
       "      <td>1.0</td>\n",
       "      <td>1.00</td>\n",
       "      <td>1.0</td>\n",
       "      <td>1.0</td>\n",
       "    </tr>\n",
       "    <tr>\n",
       "      <th>int_memory</th>\n",
       "      <td>2000.0</td>\n",
       "      <td>32.04650</td>\n",
       "      <td>18.145715</td>\n",
       "      <td>2.0</td>\n",
       "      <td>16.00</td>\n",
       "      <td>32.0</td>\n",
       "      <td>48.00</td>\n",
       "      <td>64.0</td>\n",
       "      <td>32.0</td>\n",
       "    </tr>\n",
       "    <tr>\n",
       "      <th>m_dep</th>\n",
       "      <td>2000.0</td>\n",
       "      <td>0.50175</td>\n",
       "      <td>0.288416</td>\n",
       "      <td>0.1</td>\n",
       "      <td>0.20</td>\n",
       "      <td>0.5</td>\n",
       "      <td>0.80</td>\n",
       "      <td>1.0</td>\n",
       "      <td>0.5</td>\n",
       "    </tr>\n",
       "    <tr>\n",
       "      <th>mobile_wt</th>\n",
       "      <td>2000.0</td>\n",
       "      <td>140.24900</td>\n",
       "      <td>35.399655</td>\n",
       "      <td>80.0</td>\n",
       "      <td>109.00</td>\n",
       "      <td>141.0</td>\n",
       "      <td>170.00</td>\n",
       "      <td>200.0</td>\n",
       "      <td>141.0</td>\n",
       "    </tr>\n",
       "    <tr>\n",
       "      <th>n_cores</th>\n",
       "      <td>2000.0</td>\n",
       "      <td>4.52050</td>\n",
       "      <td>2.287837</td>\n",
       "      <td>1.0</td>\n",
       "      <td>3.00</td>\n",
       "      <td>4.0</td>\n",
       "      <td>7.00</td>\n",
       "      <td>8.0</td>\n",
       "      <td>4.0</td>\n",
       "    </tr>\n",
       "    <tr>\n",
       "      <th>pc</th>\n",
       "      <td>2000.0</td>\n",
       "      <td>9.91650</td>\n",
       "      <td>6.064315</td>\n",
       "      <td>0.0</td>\n",
       "      <td>5.00</td>\n",
       "      <td>10.0</td>\n",
       "      <td>15.00</td>\n",
       "      <td>20.0</td>\n",
       "      <td>10.0</td>\n",
       "    </tr>\n",
       "    <tr>\n",
       "      <th>px_height</th>\n",
       "      <td>2000.0</td>\n",
       "      <td>645.10800</td>\n",
       "      <td>443.780811</td>\n",
       "      <td>0.0</td>\n",
       "      <td>282.75</td>\n",
       "      <td>564.0</td>\n",
       "      <td>947.25</td>\n",
       "      <td>1960.0</td>\n",
       "      <td>564.0</td>\n",
       "    </tr>\n",
       "    <tr>\n",
       "      <th>px_width</th>\n",
       "      <td>2000.0</td>\n",
       "      <td>1251.51550</td>\n",
       "      <td>432.199447</td>\n",
       "      <td>500.0</td>\n",
       "      <td>874.75</td>\n",
       "      <td>1247.0</td>\n",
       "      <td>1633.00</td>\n",
       "      <td>1998.0</td>\n",
       "      <td>1247.0</td>\n",
       "    </tr>\n",
       "    <tr>\n",
       "      <th>ram</th>\n",
       "      <td>2000.0</td>\n",
       "      <td>2124.21300</td>\n",
       "      <td>1084.732044</td>\n",
       "      <td>256.0</td>\n",
       "      <td>1207.50</td>\n",
       "      <td>2146.5</td>\n",
       "      <td>3064.50</td>\n",
       "      <td>3998.0</td>\n",
       "      <td>2146.5</td>\n",
       "    </tr>\n",
       "    <tr>\n",
       "      <th>sc_h</th>\n",
       "      <td>2000.0</td>\n",
       "      <td>12.30650</td>\n",
       "      <td>4.213245</td>\n",
       "      <td>5.0</td>\n",
       "      <td>9.00</td>\n",
       "      <td>12.0</td>\n",
       "      <td>16.00</td>\n",
       "      <td>19.0</td>\n",
       "      <td>12.0</td>\n",
       "    </tr>\n",
       "    <tr>\n",
       "      <th>sc_w</th>\n",
       "      <td>2000.0</td>\n",
       "      <td>5.76700</td>\n",
       "      <td>4.356398</td>\n",
       "      <td>0.0</td>\n",
       "      <td>2.00</td>\n",
       "      <td>5.0</td>\n",
       "      <td>9.00</td>\n",
       "      <td>18.0</td>\n",
       "      <td>5.0</td>\n",
       "    </tr>\n",
       "    <tr>\n",
       "      <th>talk_time</th>\n",
       "      <td>2000.0</td>\n",
       "      <td>11.01100</td>\n",
       "      <td>5.463955</td>\n",
       "      <td>2.0</td>\n",
       "      <td>6.00</td>\n",
       "      <td>11.0</td>\n",
       "      <td>16.00</td>\n",
       "      <td>20.0</td>\n",
       "      <td>11.0</td>\n",
       "    </tr>\n",
       "    <tr>\n",
       "      <th>three_g</th>\n",
       "      <td>2000.0</td>\n",
       "      <td>0.76150</td>\n",
       "      <td>0.426273</td>\n",
       "      <td>0.0</td>\n",
       "      <td>1.00</td>\n",
       "      <td>1.0</td>\n",
       "      <td>1.00</td>\n",
       "      <td>1.0</td>\n",
       "      <td>1.0</td>\n",
       "    </tr>\n",
       "    <tr>\n",
       "      <th>touch_screen</th>\n",
       "      <td>2000.0</td>\n",
       "      <td>0.50300</td>\n",
       "      <td>0.500116</td>\n",
       "      <td>0.0</td>\n",
       "      <td>0.00</td>\n",
       "      <td>1.0</td>\n",
       "      <td>1.00</td>\n",
       "      <td>1.0</td>\n",
       "      <td>1.0</td>\n",
       "    </tr>\n",
       "    <tr>\n",
       "      <th>wifi</th>\n",
       "      <td>2000.0</td>\n",
       "      <td>0.50700</td>\n",
       "      <td>0.500076</td>\n",
       "      <td>0.0</td>\n",
       "      <td>0.00</td>\n",
       "      <td>1.0</td>\n",
       "      <td>1.00</td>\n",
       "      <td>1.0</td>\n",
       "      <td>1.0</td>\n",
       "    </tr>\n",
       "    <tr>\n",
       "      <th>price_range</th>\n",
       "      <td>2000.0</td>\n",
       "      <td>1.50000</td>\n",
       "      <td>1.118314</td>\n",
       "      <td>0.0</td>\n",
       "      <td>0.75</td>\n",
       "      <td>1.5</td>\n",
       "      <td>2.25</td>\n",
       "      <td>3.0</td>\n",
       "      <td>1.5</td>\n",
       "    </tr>\n",
       "  </tbody>\n",
       "</table>\n",
       "</div>"
      ],
      "text/plain": [
       "                count        mean          std    min      25%     50%  \\\n",
       "battery_power  2000.0  1238.51850   439.418206  501.0   851.75  1226.0   \n",
       "blue           2000.0     0.49500     0.500100    0.0     0.00     0.0   \n",
       "clock_speed    2000.0     1.52225     0.816004    0.5     0.70     1.5   \n",
       "dual_sim       2000.0     0.50950     0.500035    0.0     0.00     1.0   \n",
       "fc             2000.0     4.30950     4.341444    0.0     1.00     3.0   \n",
       "four_g         2000.0     0.52150     0.499662    0.0     0.00     1.0   \n",
       "int_memory     2000.0    32.04650    18.145715    2.0    16.00    32.0   \n",
       "m_dep          2000.0     0.50175     0.288416    0.1     0.20     0.5   \n",
       "mobile_wt      2000.0   140.24900    35.399655   80.0   109.00   141.0   \n",
       "n_cores        2000.0     4.52050     2.287837    1.0     3.00     4.0   \n",
       "pc             2000.0     9.91650     6.064315    0.0     5.00    10.0   \n",
       "px_height      2000.0   645.10800   443.780811    0.0   282.75   564.0   \n",
       "px_width       2000.0  1251.51550   432.199447  500.0   874.75  1247.0   \n",
       "ram            2000.0  2124.21300  1084.732044  256.0  1207.50  2146.5   \n",
       "sc_h           2000.0    12.30650     4.213245    5.0     9.00    12.0   \n",
       "sc_w           2000.0     5.76700     4.356398    0.0     2.00     5.0   \n",
       "talk_time      2000.0    11.01100     5.463955    2.0     6.00    11.0   \n",
       "three_g        2000.0     0.76150     0.426273    0.0     1.00     1.0   \n",
       "touch_screen   2000.0     0.50300     0.500116    0.0     0.00     1.0   \n",
       "wifi           2000.0     0.50700     0.500076    0.0     0.00     1.0   \n",
       "price_range    2000.0     1.50000     1.118314    0.0     0.75     1.5   \n",
       "\n",
       "                   75%     max  median  \n",
       "battery_power  1615.25  1998.0  1226.0  \n",
       "blue              1.00     1.0     0.0  \n",
       "clock_speed       2.20     3.0     1.5  \n",
       "dual_sim          1.00     1.0     1.0  \n",
       "fc                7.00    19.0     3.0  \n",
       "four_g            1.00     1.0     1.0  \n",
       "int_memory       48.00    64.0    32.0  \n",
       "m_dep             0.80     1.0     0.5  \n",
       "mobile_wt       170.00   200.0   141.0  \n",
       "n_cores           7.00     8.0     4.0  \n",
       "pc               15.00    20.0    10.0  \n",
       "px_height       947.25  1960.0   564.0  \n",
       "px_width       1633.00  1998.0  1247.0  \n",
       "ram            3064.50  3998.0  2146.5  \n",
       "sc_h             16.00    19.0    12.0  \n",
       "sc_w              9.00    18.0     5.0  \n",
       "talk_time        16.00    20.0    11.0  \n",
       "three_g           1.00     1.0     1.0  \n",
       "touch_screen      1.00     1.0     1.0  \n",
       "wifi              1.00     1.0     1.0  \n",
       "price_range       2.25     3.0     1.5  "
      ]
     },
     "execution_count": 5,
     "metadata": {},
     "output_type": "execute_result"
    }
   ],
   "source": [
    "# Obtener num de elementos, media, desv típica, max, min y cuartiles\n",
    "stats_df = mobile_df.describe(include)\n",
    "# Obtener y añadir la mediana\n",
    "median = pd.DataFrame(mobile_df.median())\n",
    "median = median.transpose()\n",
    "median.rename(index = {0:'median'},inplace = True)\n",
    "stats_df = stats_df.append(median).transpose() \n",
    "stats_df"
   ]
  },
  {
   "cell_type": "markdown",
   "metadata": {},
   "source": [
    "### 2.2 Variables categóricas"
   ]
  },
  {
   "cell_type": "markdown",
   "metadata": {},
   "source": [
    "Podemos observar en la siguiente celda que no hay variables categóricas en el dataset"
   ]
  },
  {
   "cell_type": "code",
   "execution_count": 6,
   "metadata": {},
   "outputs": [
    {
     "data": {
      "text/plain": [
       "battery_power      int64\n",
       "blue               int64\n",
       "clock_speed      float64\n",
       "dual_sim           int64\n",
       "fc                 int64\n",
       "four_g             int64\n",
       "int_memory         int64\n",
       "m_dep            float64\n",
       "mobile_wt          int64\n",
       "n_cores            int64\n",
       "pc                 int64\n",
       "px_height          int64\n",
       "px_width           int64\n",
       "ram                int64\n",
       "sc_h               int64\n",
       "sc_w               int64\n",
       "talk_time          int64\n",
       "three_g            int64\n",
       "touch_screen       int64\n",
       "wifi               int64\n",
       "price_range        int64\n",
       "dtype: object"
      ]
     },
     "execution_count": 6,
     "metadata": {},
     "output_type": "execute_result"
    }
   ],
   "source": [
    "mobile_df.dtypes"
   ]
  },
  {
   "cell_type": "markdown",
   "metadata": {},
   "source": [
    "Sin embargo, hay ciertas variables que aunque se han introducido en el dataset por su valor binario 0 o 1, se tratan de variables categóricas con dos opciones cada una (lo tienen o no lo tienen). Dichas variables son:  \n",
    "- blue  \n",
    "- dual_sim  \n",
    "- four_g  \n",
    "- three_g  \n",
    "- touch_screen  \n",
    "- wifi  \n",
    "\n",
    "Por tanto evaluaremos la frecuencia de los datos en estas categorías considerando el valor 1 como que el telefono cuenta con la característica y el valor 0 como que no cuenta con ella. Para ello expresaremos el porcentaje de cada tipo de dato:"
   ]
  },
  {
   "cell_type": "code",
   "execution_count": 7,
   "metadata": {},
   "outputs": [
    {
     "name": "stdout",
     "output_type": "stream",
     "text": [
      "\u001b[1mPorcentaje de las variables dentro de las categorías (0 no lo tienen y 1 lo tienen): \u001b[0m\n",
      "Variable: blue\n",
      "0    50.5\n",
      "1    49.5\n",
      "Name: blue, dtype: float64\n",
      "-------------------------------\n",
      "Variable: dual_sim\n",
      "1    50.95\n",
      "0    49.05\n",
      "Name: dual_sim, dtype: float64\n",
      "-------------------------------\n",
      "Variable: four_g\n",
      "1    52.15\n",
      "0    47.85\n",
      "Name: four_g, dtype: float64\n",
      "-------------------------------\n",
      "Variable: three_g\n",
      "1    76.15\n",
      "0    23.85\n",
      "Name: three_g, dtype: float64\n",
      "-------------------------------\n",
      "Variable: touch_screen\n",
      "1    50.3\n",
      "0    49.7\n",
      "Name: touch_screen, dtype: float64\n",
      "-------------------------------\n",
      "Variable: wifi\n",
      "1    50.7\n",
      "0    49.3\n",
      "Name: wifi, dtype: float64\n",
      "-------------------------------\n"
     ]
    }
   ],
   "source": [
    "# Hallamos el porcentaje de 1 (lo tiene) y 0 (no lo tiene)\n",
    "print('\\033[1m'+'Porcentaje de las variables dentro de las categorías (0 no lo tienen y 1 lo tienen): '+'\\033[0m')\n",
    "var_cat = ['blue','dual_sim','four_g','three_g','touch_screen','wifi']\n",
    "for col_name in mobile_df[var_cat].columns:\n",
    "    print('Variable: ' + col_name)\n",
    "    print(100*mobile_df[col_name].value_counts()/len(mobile_df[col_name]))\n",
    "    print('-------------------------------')"
   ]
  },
  {
   "cell_type": "markdown",
   "metadata": {},
   "source": [
    "Se puede observar como en torno al 50% de los móviles poseen bluetooth, tarjeta sim dual, pantalla tactil, 4G y wifi. Donde mayor variabilidad se ve en los datos es en la presencia de 3G, el cual está incluido en el 76.15% de los móviles."
   ]
  },
  {
   "cell_type": "markdown",
   "metadata": {},
   "source": [
    "### 2.3 Matriz de correlaciones y análisis de los resultados"
   ]
  },
  {
   "cell_type": "code",
   "execution_count": 8,
   "metadata": {},
   "outputs": [
    {
     "data": {
      "text/html": [
       "<div>\n",
       "<style scoped>\n",
       "    .dataframe tbody tr th:only-of-type {\n",
       "        vertical-align: middle;\n",
       "    }\n",
       "\n",
       "    .dataframe tbody tr th {\n",
       "        vertical-align: top;\n",
       "    }\n",
       "\n",
       "    .dataframe thead th {\n",
       "        text-align: right;\n",
       "    }\n",
       "</style>\n",
       "<table border=\"1\" class=\"dataframe\">\n",
       "  <thead>\n",
       "    <tr style=\"text-align: right;\">\n",
       "      <th></th>\n",
       "      <th>battery_power</th>\n",
       "      <th>blue</th>\n",
       "      <th>clock_speed</th>\n",
       "      <th>dual_sim</th>\n",
       "      <th>fc</th>\n",
       "      <th>four_g</th>\n",
       "      <th>int_memory</th>\n",
       "      <th>m_dep</th>\n",
       "      <th>mobile_wt</th>\n",
       "      <th>n_cores</th>\n",
       "      <th>...</th>\n",
       "      <th>px_height</th>\n",
       "      <th>px_width</th>\n",
       "      <th>ram</th>\n",
       "      <th>sc_h</th>\n",
       "      <th>sc_w</th>\n",
       "      <th>talk_time</th>\n",
       "      <th>three_g</th>\n",
       "      <th>touch_screen</th>\n",
       "      <th>wifi</th>\n",
       "      <th>price_range</th>\n",
       "    </tr>\n",
       "  </thead>\n",
       "  <tbody>\n",
       "    <tr>\n",
       "      <th>battery_power</th>\n",
       "      <td>1.000000</td>\n",
       "      <td>0.011252</td>\n",
       "      <td>0.011482</td>\n",
       "      <td>-0.041847</td>\n",
       "      <td>0.033334</td>\n",
       "      <td>0.015665</td>\n",
       "      <td>-0.004004</td>\n",
       "      <td>0.034085</td>\n",
       "      <td>0.001844</td>\n",
       "      <td>-0.029727</td>\n",
       "      <td>...</td>\n",
       "      <td>0.014901</td>\n",
       "      <td>-0.008402</td>\n",
       "      <td>-0.000653</td>\n",
       "      <td>-0.029959</td>\n",
       "      <td>-0.021421</td>\n",
       "      <td>0.052510</td>\n",
       "      <td>0.011522</td>\n",
       "      <td>-0.010516</td>\n",
       "      <td>-0.008343</td>\n",
       "      <td>0.200723</td>\n",
       "    </tr>\n",
       "    <tr>\n",
       "      <th>blue</th>\n",
       "      <td>0.011252</td>\n",
       "      <td>1.000000</td>\n",
       "      <td>0.021419</td>\n",
       "      <td>0.035198</td>\n",
       "      <td>0.003593</td>\n",
       "      <td>0.013443</td>\n",
       "      <td>0.041177</td>\n",
       "      <td>0.004049</td>\n",
       "      <td>-0.008605</td>\n",
       "      <td>0.036161</td>\n",
       "      <td>...</td>\n",
       "      <td>-0.006872</td>\n",
       "      <td>-0.041533</td>\n",
       "      <td>0.026351</td>\n",
       "      <td>-0.002952</td>\n",
       "      <td>0.000613</td>\n",
       "      <td>0.013934</td>\n",
       "      <td>-0.030236</td>\n",
       "      <td>0.010061</td>\n",
       "      <td>-0.021863</td>\n",
       "      <td>0.020573</td>\n",
       "    </tr>\n",
       "    <tr>\n",
       "      <th>clock_speed</th>\n",
       "      <td>0.011482</td>\n",
       "      <td>0.021419</td>\n",
       "      <td>1.000000</td>\n",
       "      <td>-0.001315</td>\n",
       "      <td>-0.000434</td>\n",
       "      <td>-0.043073</td>\n",
       "      <td>0.006545</td>\n",
       "      <td>-0.014364</td>\n",
       "      <td>0.012350</td>\n",
       "      <td>-0.005724</td>\n",
       "      <td>...</td>\n",
       "      <td>-0.014523</td>\n",
       "      <td>-0.009476</td>\n",
       "      <td>0.003443</td>\n",
       "      <td>-0.029078</td>\n",
       "      <td>-0.007378</td>\n",
       "      <td>-0.011432</td>\n",
       "      <td>-0.046433</td>\n",
       "      <td>0.019756</td>\n",
       "      <td>-0.024471</td>\n",
       "      <td>-0.006606</td>\n",
       "    </tr>\n",
       "    <tr>\n",
       "      <th>dual_sim</th>\n",
       "      <td>-0.041847</td>\n",
       "      <td>0.035198</td>\n",
       "      <td>-0.001315</td>\n",
       "      <td>1.000000</td>\n",
       "      <td>-0.029123</td>\n",
       "      <td>0.003187</td>\n",
       "      <td>-0.015679</td>\n",
       "      <td>-0.022142</td>\n",
       "      <td>-0.008979</td>\n",
       "      <td>-0.024658</td>\n",
       "      <td>...</td>\n",
       "      <td>-0.020875</td>\n",
       "      <td>0.014291</td>\n",
       "      <td>0.041072</td>\n",
       "      <td>-0.011949</td>\n",
       "      <td>-0.016666</td>\n",
       "      <td>-0.039404</td>\n",
       "      <td>-0.014008</td>\n",
       "      <td>-0.017117</td>\n",
       "      <td>0.022740</td>\n",
       "      <td>0.017444</td>\n",
       "    </tr>\n",
       "    <tr>\n",
       "      <th>fc</th>\n",
       "      <td>0.033334</td>\n",
       "      <td>0.003593</td>\n",
       "      <td>-0.000434</td>\n",
       "      <td>-0.029123</td>\n",
       "      <td>1.000000</td>\n",
       "      <td>-0.016560</td>\n",
       "      <td>-0.029133</td>\n",
       "      <td>-0.001791</td>\n",
       "      <td>0.023618</td>\n",
       "      <td>-0.013356</td>\n",
       "      <td>...</td>\n",
       "      <td>-0.009990</td>\n",
       "      <td>-0.005176</td>\n",
       "      <td>0.015099</td>\n",
       "      <td>-0.011014</td>\n",
       "      <td>-0.012373</td>\n",
       "      <td>-0.006829</td>\n",
       "      <td>0.001793</td>\n",
       "      <td>-0.014828</td>\n",
       "      <td>0.020085</td>\n",
       "      <td>0.021998</td>\n",
       "    </tr>\n",
       "    <tr>\n",
       "      <th>four_g</th>\n",
       "      <td>0.015665</td>\n",
       "      <td>0.013443</td>\n",
       "      <td>-0.043073</td>\n",
       "      <td>0.003187</td>\n",
       "      <td>-0.016560</td>\n",
       "      <td>1.000000</td>\n",
       "      <td>0.008690</td>\n",
       "      <td>-0.001823</td>\n",
       "      <td>-0.016537</td>\n",
       "      <td>-0.029706</td>\n",
       "      <td>...</td>\n",
       "      <td>-0.019236</td>\n",
       "      <td>0.007448</td>\n",
       "      <td>0.007313</td>\n",
       "      <td>0.027166</td>\n",
       "      <td>0.037005</td>\n",
       "      <td>-0.046628</td>\n",
       "      <td>0.584246</td>\n",
       "      <td>0.016758</td>\n",
       "      <td>-0.017620</td>\n",
       "      <td>0.014772</td>\n",
       "    </tr>\n",
       "    <tr>\n",
       "      <th>int_memory</th>\n",
       "      <td>-0.004004</td>\n",
       "      <td>0.041177</td>\n",
       "      <td>0.006545</td>\n",
       "      <td>-0.015679</td>\n",
       "      <td>-0.029133</td>\n",
       "      <td>0.008690</td>\n",
       "      <td>1.000000</td>\n",
       "      <td>0.006886</td>\n",
       "      <td>-0.034214</td>\n",
       "      <td>-0.028310</td>\n",
       "      <td>...</td>\n",
       "      <td>0.010441</td>\n",
       "      <td>-0.008335</td>\n",
       "      <td>0.032813</td>\n",
       "      <td>0.037771</td>\n",
       "      <td>0.011731</td>\n",
       "      <td>-0.002790</td>\n",
       "      <td>-0.009366</td>\n",
       "      <td>-0.026999</td>\n",
       "      <td>0.006993</td>\n",
       "      <td>0.044435</td>\n",
       "    </tr>\n",
       "    <tr>\n",
       "      <th>m_dep</th>\n",
       "      <td>0.034085</td>\n",
       "      <td>0.004049</td>\n",
       "      <td>-0.014364</td>\n",
       "      <td>-0.022142</td>\n",
       "      <td>-0.001791</td>\n",
       "      <td>-0.001823</td>\n",
       "      <td>0.006886</td>\n",
       "      <td>1.000000</td>\n",
       "      <td>0.021756</td>\n",
       "      <td>-0.003504</td>\n",
       "      <td>...</td>\n",
       "      <td>0.025263</td>\n",
       "      <td>0.023566</td>\n",
       "      <td>-0.009434</td>\n",
       "      <td>-0.025348</td>\n",
       "      <td>-0.018388</td>\n",
       "      <td>0.017003</td>\n",
       "      <td>-0.012065</td>\n",
       "      <td>-0.002638</td>\n",
       "      <td>-0.028353</td>\n",
       "      <td>0.000853</td>\n",
       "    </tr>\n",
       "    <tr>\n",
       "      <th>mobile_wt</th>\n",
       "      <td>0.001844</td>\n",
       "      <td>-0.008605</td>\n",
       "      <td>0.012350</td>\n",
       "      <td>-0.008979</td>\n",
       "      <td>0.023618</td>\n",
       "      <td>-0.016537</td>\n",
       "      <td>-0.034214</td>\n",
       "      <td>0.021756</td>\n",
       "      <td>1.000000</td>\n",
       "      <td>-0.018989</td>\n",
       "      <td>...</td>\n",
       "      <td>0.000939</td>\n",
       "      <td>0.000090</td>\n",
       "      <td>-0.002581</td>\n",
       "      <td>-0.033855</td>\n",
       "      <td>-0.020761</td>\n",
       "      <td>0.006209</td>\n",
       "      <td>0.001551</td>\n",
       "      <td>-0.014368</td>\n",
       "      <td>-0.000409</td>\n",
       "      <td>-0.030302</td>\n",
       "    </tr>\n",
       "    <tr>\n",
       "      <th>n_cores</th>\n",
       "      <td>-0.029727</td>\n",
       "      <td>0.036161</td>\n",
       "      <td>-0.005724</td>\n",
       "      <td>-0.024658</td>\n",
       "      <td>-0.013356</td>\n",
       "      <td>-0.029706</td>\n",
       "      <td>-0.028310</td>\n",
       "      <td>-0.003504</td>\n",
       "      <td>-0.018989</td>\n",
       "      <td>1.000000</td>\n",
       "      <td>...</td>\n",
       "      <td>-0.006872</td>\n",
       "      <td>0.024480</td>\n",
       "      <td>0.004868</td>\n",
       "      <td>-0.000315</td>\n",
       "      <td>0.025826</td>\n",
       "      <td>0.013148</td>\n",
       "      <td>-0.014733</td>\n",
       "      <td>0.023774</td>\n",
       "      <td>-0.009964</td>\n",
       "      <td>0.004399</td>\n",
       "    </tr>\n",
       "    <tr>\n",
       "      <th>pc</th>\n",
       "      <td>0.031441</td>\n",
       "      <td>-0.009952</td>\n",
       "      <td>-0.005245</td>\n",
       "      <td>-0.017143</td>\n",
       "      <td>0.644595</td>\n",
       "      <td>-0.005598</td>\n",
       "      <td>-0.033273</td>\n",
       "      <td>0.026282</td>\n",
       "      <td>0.018844</td>\n",
       "      <td>-0.001193</td>\n",
       "      <td>...</td>\n",
       "      <td>-0.018465</td>\n",
       "      <td>0.004196</td>\n",
       "      <td>0.028984</td>\n",
       "      <td>0.004938</td>\n",
       "      <td>-0.023819</td>\n",
       "      <td>0.014657</td>\n",
       "      <td>-0.001322</td>\n",
       "      <td>-0.008742</td>\n",
       "      <td>0.005389</td>\n",
       "      <td>0.033599</td>\n",
       "    </tr>\n",
       "    <tr>\n",
       "      <th>px_height</th>\n",
       "      <td>0.014901</td>\n",
       "      <td>-0.006872</td>\n",
       "      <td>-0.014523</td>\n",
       "      <td>-0.020875</td>\n",
       "      <td>-0.009990</td>\n",
       "      <td>-0.019236</td>\n",
       "      <td>0.010441</td>\n",
       "      <td>0.025263</td>\n",
       "      <td>0.000939</td>\n",
       "      <td>-0.006872</td>\n",
       "      <td>...</td>\n",
       "      <td>1.000000</td>\n",
       "      <td>0.510664</td>\n",
       "      <td>-0.020352</td>\n",
       "      <td>0.059615</td>\n",
       "      <td>0.043038</td>\n",
       "      <td>-0.010645</td>\n",
       "      <td>-0.031174</td>\n",
       "      <td>0.021891</td>\n",
       "      <td>0.051824</td>\n",
       "      <td>0.148858</td>\n",
       "    </tr>\n",
       "    <tr>\n",
       "      <th>px_width</th>\n",
       "      <td>-0.008402</td>\n",
       "      <td>-0.041533</td>\n",
       "      <td>-0.009476</td>\n",
       "      <td>0.014291</td>\n",
       "      <td>-0.005176</td>\n",
       "      <td>0.007448</td>\n",
       "      <td>-0.008335</td>\n",
       "      <td>0.023566</td>\n",
       "      <td>0.000090</td>\n",
       "      <td>0.024480</td>\n",
       "      <td>...</td>\n",
       "      <td>0.510664</td>\n",
       "      <td>1.000000</td>\n",
       "      <td>0.004105</td>\n",
       "      <td>0.021599</td>\n",
       "      <td>0.034699</td>\n",
       "      <td>0.006720</td>\n",
       "      <td>0.000350</td>\n",
       "      <td>-0.001628</td>\n",
       "      <td>0.030319</td>\n",
       "      <td>0.165818</td>\n",
       "    </tr>\n",
       "    <tr>\n",
       "      <th>ram</th>\n",
       "      <td>-0.000653</td>\n",
       "      <td>0.026351</td>\n",
       "      <td>0.003443</td>\n",
       "      <td>0.041072</td>\n",
       "      <td>0.015099</td>\n",
       "      <td>0.007313</td>\n",
       "      <td>0.032813</td>\n",
       "      <td>-0.009434</td>\n",
       "      <td>-0.002581</td>\n",
       "      <td>0.004868</td>\n",
       "      <td>...</td>\n",
       "      <td>-0.020352</td>\n",
       "      <td>0.004105</td>\n",
       "      <td>1.000000</td>\n",
       "      <td>0.015996</td>\n",
       "      <td>0.035576</td>\n",
       "      <td>0.010820</td>\n",
       "      <td>0.015795</td>\n",
       "      <td>-0.030455</td>\n",
       "      <td>0.022669</td>\n",
       "      <td>0.917046</td>\n",
       "    </tr>\n",
       "    <tr>\n",
       "      <th>sc_h</th>\n",
       "      <td>-0.029959</td>\n",
       "      <td>-0.002952</td>\n",
       "      <td>-0.029078</td>\n",
       "      <td>-0.011949</td>\n",
       "      <td>-0.011014</td>\n",
       "      <td>0.027166</td>\n",
       "      <td>0.037771</td>\n",
       "      <td>-0.025348</td>\n",
       "      <td>-0.033855</td>\n",
       "      <td>-0.000315</td>\n",
       "      <td>...</td>\n",
       "      <td>0.059615</td>\n",
       "      <td>0.021599</td>\n",
       "      <td>0.015996</td>\n",
       "      <td>1.000000</td>\n",
       "      <td>0.506144</td>\n",
       "      <td>-0.017335</td>\n",
       "      <td>0.012033</td>\n",
       "      <td>-0.020023</td>\n",
       "      <td>0.025929</td>\n",
       "      <td>0.022986</td>\n",
       "    </tr>\n",
       "    <tr>\n",
       "      <th>sc_w</th>\n",
       "      <td>-0.021421</td>\n",
       "      <td>0.000613</td>\n",
       "      <td>-0.007378</td>\n",
       "      <td>-0.016666</td>\n",
       "      <td>-0.012373</td>\n",
       "      <td>0.037005</td>\n",
       "      <td>0.011731</td>\n",
       "      <td>-0.018388</td>\n",
       "      <td>-0.020761</td>\n",
       "      <td>0.025826</td>\n",
       "      <td>...</td>\n",
       "      <td>0.043038</td>\n",
       "      <td>0.034699</td>\n",
       "      <td>0.035576</td>\n",
       "      <td>0.506144</td>\n",
       "      <td>1.000000</td>\n",
       "      <td>-0.022821</td>\n",
       "      <td>0.030941</td>\n",
       "      <td>0.012720</td>\n",
       "      <td>0.035423</td>\n",
       "      <td>0.038711</td>\n",
       "    </tr>\n",
       "    <tr>\n",
       "      <th>talk_time</th>\n",
       "      <td>0.052510</td>\n",
       "      <td>0.013934</td>\n",
       "      <td>-0.011432</td>\n",
       "      <td>-0.039404</td>\n",
       "      <td>-0.006829</td>\n",
       "      <td>-0.046628</td>\n",
       "      <td>-0.002790</td>\n",
       "      <td>0.017003</td>\n",
       "      <td>0.006209</td>\n",
       "      <td>0.013148</td>\n",
       "      <td>...</td>\n",
       "      <td>-0.010645</td>\n",
       "      <td>0.006720</td>\n",
       "      <td>0.010820</td>\n",
       "      <td>-0.017335</td>\n",
       "      <td>-0.022821</td>\n",
       "      <td>1.000000</td>\n",
       "      <td>-0.042688</td>\n",
       "      <td>0.017196</td>\n",
       "      <td>-0.029504</td>\n",
       "      <td>0.021859</td>\n",
       "    </tr>\n",
       "    <tr>\n",
       "      <th>three_g</th>\n",
       "      <td>0.011522</td>\n",
       "      <td>-0.030236</td>\n",
       "      <td>-0.046433</td>\n",
       "      <td>-0.014008</td>\n",
       "      <td>0.001793</td>\n",
       "      <td>0.584246</td>\n",
       "      <td>-0.009366</td>\n",
       "      <td>-0.012065</td>\n",
       "      <td>0.001551</td>\n",
       "      <td>-0.014733</td>\n",
       "      <td>...</td>\n",
       "      <td>-0.031174</td>\n",
       "      <td>0.000350</td>\n",
       "      <td>0.015795</td>\n",
       "      <td>0.012033</td>\n",
       "      <td>0.030941</td>\n",
       "      <td>-0.042688</td>\n",
       "      <td>1.000000</td>\n",
       "      <td>0.013917</td>\n",
       "      <td>0.004316</td>\n",
       "      <td>0.023611</td>\n",
       "    </tr>\n",
       "    <tr>\n",
       "      <th>touch_screen</th>\n",
       "      <td>-0.010516</td>\n",
       "      <td>0.010061</td>\n",
       "      <td>0.019756</td>\n",
       "      <td>-0.017117</td>\n",
       "      <td>-0.014828</td>\n",
       "      <td>0.016758</td>\n",
       "      <td>-0.026999</td>\n",
       "      <td>-0.002638</td>\n",
       "      <td>-0.014368</td>\n",
       "      <td>0.023774</td>\n",
       "      <td>...</td>\n",
       "      <td>0.021891</td>\n",
       "      <td>-0.001628</td>\n",
       "      <td>-0.030455</td>\n",
       "      <td>-0.020023</td>\n",
       "      <td>0.012720</td>\n",
       "      <td>0.017196</td>\n",
       "      <td>0.013917</td>\n",
       "      <td>1.000000</td>\n",
       "      <td>0.011917</td>\n",
       "      <td>-0.030411</td>\n",
       "    </tr>\n",
       "    <tr>\n",
       "      <th>wifi</th>\n",
       "      <td>-0.008343</td>\n",
       "      <td>-0.021863</td>\n",
       "      <td>-0.024471</td>\n",
       "      <td>0.022740</td>\n",
       "      <td>0.020085</td>\n",
       "      <td>-0.017620</td>\n",
       "      <td>0.006993</td>\n",
       "      <td>-0.028353</td>\n",
       "      <td>-0.000409</td>\n",
       "      <td>-0.009964</td>\n",
       "      <td>...</td>\n",
       "      <td>0.051824</td>\n",
       "      <td>0.030319</td>\n",
       "      <td>0.022669</td>\n",
       "      <td>0.025929</td>\n",
       "      <td>0.035423</td>\n",
       "      <td>-0.029504</td>\n",
       "      <td>0.004316</td>\n",
       "      <td>0.011917</td>\n",
       "      <td>1.000000</td>\n",
       "      <td>0.018785</td>\n",
       "    </tr>\n",
       "    <tr>\n",
       "      <th>price_range</th>\n",
       "      <td>0.200723</td>\n",
       "      <td>0.020573</td>\n",
       "      <td>-0.006606</td>\n",
       "      <td>0.017444</td>\n",
       "      <td>0.021998</td>\n",
       "      <td>0.014772</td>\n",
       "      <td>0.044435</td>\n",
       "      <td>0.000853</td>\n",
       "      <td>-0.030302</td>\n",
       "      <td>0.004399</td>\n",
       "      <td>...</td>\n",
       "      <td>0.148858</td>\n",
       "      <td>0.165818</td>\n",
       "      <td>0.917046</td>\n",
       "      <td>0.022986</td>\n",
       "      <td>0.038711</td>\n",
       "      <td>0.021859</td>\n",
       "      <td>0.023611</td>\n",
       "      <td>-0.030411</td>\n",
       "      <td>0.018785</td>\n",
       "      <td>1.000000</td>\n",
       "    </tr>\n",
       "  </tbody>\n",
       "</table>\n",
       "<p>21 rows × 21 columns</p>\n",
       "</div>"
      ],
      "text/plain": [
       "               battery_power      blue  clock_speed  dual_sim        fc  \\\n",
       "battery_power       1.000000  0.011252     0.011482 -0.041847  0.033334   \n",
       "blue                0.011252  1.000000     0.021419  0.035198  0.003593   \n",
       "clock_speed         0.011482  0.021419     1.000000 -0.001315 -0.000434   \n",
       "dual_sim           -0.041847  0.035198    -0.001315  1.000000 -0.029123   \n",
       "fc                  0.033334  0.003593    -0.000434 -0.029123  1.000000   \n",
       "four_g              0.015665  0.013443    -0.043073  0.003187 -0.016560   \n",
       "int_memory         -0.004004  0.041177     0.006545 -0.015679 -0.029133   \n",
       "m_dep               0.034085  0.004049    -0.014364 -0.022142 -0.001791   \n",
       "mobile_wt           0.001844 -0.008605     0.012350 -0.008979  0.023618   \n",
       "n_cores            -0.029727  0.036161    -0.005724 -0.024658 -0.013356   \n",
       "pc                  0.031441 -0.009952    -0.005245 -0.017143  0.644595   \n",
       "px_height           0.014901 -0.006872    -0.014523 -0.020875 -0.009990   \n",
       "px_width           -0.008402 -0.041533    -0.009476  0.014291 -0.005176   \n",
       "ram                -0.000653  0.026351     0.003443  0.041072  0.015099   \n",
       "sc_h               -0.029959 -0.002952    -0.029078 -0.011949 -0.011014   \n",
       "sc_w               -0.021421  0.000613    -0.007378 -0.016666 -0.012373   \n",
       "talk_time           0.052510  0.013934    -0.011432 -0.039404 -0.006829   \n",
       "three_g             0.011522 -0.030236    -0.046433 -0.014008  0.001793   \n",
       "touch_screen       -0.010516  0.010061     0.019756 -0.017117 -0.014828   \n",
       "wifi               -0.008343 -0.021863    -0.024471  0.022740  0.020085   \n",
       "price_range         0.200723  0.020573    -0.006606  0.017444  0.021998   \n",
       "\n",
       "                 four_g  int_memory     m_dep  mobile_wt   n_cores  ...  \\\n",
       "battery_power  0.015665   -0.004004  0.034085   0.001844 -0.029727  ...   \n",
       "blue           0.013443    0.041177  0.004049  -0.008605  0.036161  ...   \n",
       "clock_speed   -0.043073    0.006545 -0.014364   0.012350 -0.005724  ...   \n",
       "dual_sim       0.003187   -0.015679 -0.022142  -0.008979 -0.024658  ...   \n",
       "fc            -0.016560   -0.029133 -0.001791   0.023618 -0.013356  ...   \n",
       "four_g         1.000000    0.008690 -0.001823  -0.016537 -0.029706  ...   \n",
       "int_memory     0.008690    1.000000  0.006886  -0.034214 -0.028310  ...   \n",
       "m_dep         -0.001823    0.006886  1.000000   0.021756 -0.003504  ...   \n",
       "mobile_wt     -0.016537   -0.034214  0.021756   1.000000 -0.018989  ...   \n",
       "n_cores       -0.029706   -0.028310 -0.003504  -0.018989  1.000000  ...   \n",
       "pc            -0.005598   -0.033273  0.026282   0.018844 -0.001193  ...   \n",
       "px_height     -0.019236    0.010441  0.025263   0.000939 -0.006872  ...   \n",
       "px_width       0.007448   -0.008335  0.023566   0.000090  0.024480  ...   \n",
       "ram            0.007313    0.032813 -0.009434  -0.002581  0.004868  ...   \n",
       "sc_h           0.027166    0.037771 -0.025348  -0.033855 -0.000315  ...   \n",
       "sc_w           0.037005    0.011731 -0.018388  -0.020761  0.025826  ...   \n",
       "talk_time     -0.046628   -0.002790  0.017003   0.006209  0.013148  ...   \n",
       "three_g        0.584246   -0.009366 -0.012065   0.001551 -0.014733  ...   \n",
       "touch_screen   0.016758   -0.026999 -0.002638  -0.014368  0.023774  ...   \n",
       "wifi          -0.017620    0.006993 -0.028353  -0.000409 -0.009964  ...   \n",
       "price_range    0.014772    0.044435  0.000853  -0.030302  0.004399  ...   \n",
       "\n",
       "               px_height  px_width       ram      sc_h      sc_w  talk_time  \\\n",
       "battery_power   0.014901 -0.008402 -0.000653 -0.029959 -0.021421   0.052510   \n",
       "blue           -0.006872 -0.041533  0.026351 -0.002952  0.000613   0.013934   \n",
       "clock_speed    -0.014523 -0.009476  0.003443 -0.029078 -0.007378  -0.011432   \n",
       "dual_sim       -0.020875  0.014291  0.041072 -0.011949 -0.016666  -0.039404   \n",
       "fc             -0.009990 -0.005176  0.015099 -0.011014 -0.012373  -0.006829   \n",
       "four_g         -0.019236  0.007448  0.007313  0.027166  0.037005  -0.046628   \n",
       "int_memory      0.010441 -0.008335  0.032813  0.037771  0.011731  -0.002790   \n",
       "m_dep           0.025263  0.023566 -0.009434 -0.025348 -0.018388   0.017003   \n",
       "mobile_wt       0.000939  0.000090 -0.002581 -0.033855 -0.020761   0.006209   \n",
       "n_cores        -0.006872  0.024480  0.004868 -0.000315  0.025826   0.013148   \n",
       "pc             -0.018465  0.004196  0.028984  0.004938 -0.023819   0.014657   \n",
       "px_height       1.000000  0.510664 -0.020352  0.059615  0.043038  -0.010645   \n",
       "px_width        0.510664  1.000000  0.004105  0.021599  0.034699   0.006720   \n",
       "ram            -0.020352  0.004105  1.000000  0.015996  0.035576   0.010820   \n",
       "sc_h            0.059615  0.021599  0.015996  1.000000  0.506144  -0.017335   \n",
       "sc_w            0.043038  0.034699  0.035576  0.506144  1.000000  -0.022821   \n",
       "talk_time      -0.010645  0.006720  0.010820 -0.017335 -0.022821   1.000000   \n",
       "three_g        -0.031174  0.000350  0.015795  0.012033  0.030941  -0.042688   \n",
       "touch_screen    0.021891 -0.001628 -0.030455 -0.020023  0.012720   0.017196   \n",
       "wifi            0.051824  0.030319  0.022669  0.025929  0.035423  -0.029504   \n",
       "price_range     0.148858  0.165818  0.917046  0.022986  0.038711   0.021859   \n",
       "\n",
       "                three_g  touch_screen      wifi  price_range  \n",
       "battery_power  0.011522     -0.010516 -0.008343     0.200723  \n",
       "blue          -0.030236      0.010061 -0.021863     0.020573  \n",
       "clock_speed   -0.046433      0.019756 -0.024471    -0.006606  \n",
       "dual_sim      -0.014008     -0.017117  0.022740     0.017444  \n",
       "fc             0.001793     -0.014828  0.020085     0.021998  \n",
       "four_g         0.584246      0.016758 -0.017620     0.014772  \n",
       "int_memory    -0.009366     -0.026999  0.006993     0.044435  \n",
       "m_dep         -0.012065     -0.002638 -0.028353     0.000853  \n",
       "mobile_wt      0.001551     -0.014368 -0.000409    -0.030302  \n",
       "n_cores       -0.014733      0.023774 -0.009964     0.004399  \n",
       "pc            -0.001322     -0.008742  0.005389     0.033599  \n",
       "px_height     -0.031174      0.021891  0.051824     0.148858  \n",
       "px_width       0.000350     -0.001628  0.030319     0.165818  \n",
       "ram            0.015795     -0.030455  0.022669     0.917046  \n",
       "sc_h           0.012033     -0.020023  0.025929     0.022986  \n",
       "sc_w           0.030941      0.012720  0.035423     0.038711  \n",
       "talk_time     -0.042688      0.017196 -0.029504     0.021859  \n",
       "three_g        1.000000      0.013917  0.004316     0.023611  \n",
       "touch_screen   0.013917      1.000000  0.011917    -0.030411  \n",
       "wifi           0.004316      0.011917  1.000000     0.018785  \n",
       "price_range    0.023611     -0.030411  0.018785     1.000000  \n",
       "\n",
       "[21 rows x 21 columns]"
      ]
     },
     "execution_count": 8,
     "metadata": {},
     "output_type": "execute_result"
    }
   ],
   "source": [
    "var_num = mobile_df.select_dtypes(include = ['int64','float64']).reset_index(drop = True)\n",
    "corr_mat = var_num.corr()\n",
    "corr_mat"
   ]
  },
  {
   "cell_type": "markdown",
   "metadata": {},
   "source": [
    "A continuación se mostrarán las variables más correlacionadas con price_range"
   ]
  },
  {
   "cell_type": "code",
   "execution_count": 9,
   "metadata": {},
   "outputs": [
    {
     "name": "stdout",
     "output_type": "stream",
     "text": [
      "\u001b[1mListado de las variables con mayor influencia en price_range junto a su coeficiente de correlación:\u001b[0m\n",
      "battery_power 0.20072261211373094\n",
      "ram 0.9170457362649922\n",
      "price_range 1.0\n"
     ]
    }
   ],
   "source": [
    "# Encontramos variables con mayor correlación\n",
    "print('\\033[1m'+'Listado de las variables con mayor influencia en price_range junto a su coeficiente de correlación:'+'\\033[0m')\n",
    "important_var_list = []\n",
    "for i in range(0,len(corr_mat)):\n",
    "    if corr_mat['price_range'][i] > 0.2:\n",
    "        print('{} {}'.format(corr_mat.index[i],corr_mat.loc[corr_mat.index[i],'price_range']))\n",
    "        important_var_list.append(corr_mat.index[i])"
   ]
  },
  {
   "cell_type": "markdown",
   "metadata": {},
   "source": [
    "Puede verse que la unica variable que supera un 0.75 de correlación con el rango de precios es la <b>memoria RAM</b>, concretamente con un 0.91. Dicho resultado tiene bastante lógica pues la cantidad de memoria es uno de los factores que más encarece el precio de un movil.  \n",
    "Otra variable que presenta cierta correlación con el precio, aunque mucho menor que la RAM, es la <b>batería</b> del telefono, la cual se situa en torno al 0.2"
   ]
  },
  {
   "cell_type": "markdown",
   "metadata": {},
   "source": [
    "## 3. Tratamiento de missing"
   ]
  },
  {
   "cell_type": "markdown",
   "metadata": {},
   "source": [
    "Para evaluar los datos que faltan en el DataFrame, a continuación se analizarán que columnas tienen elementos NaN. Para todas ellas se especificará el nombre de la columna, el número de elementos que faltan y a que índice de columna corresponden dichas columnas con elementos faltantes en el DataFrame original."
   ]
  },
  {
   "cell_type": "code",
   "execution_count": 10,
   "metadata": {},
   "outputs": [],
   "source": [
    "# Lista con los missing de cada columna\n",
    "missing = mobile_df.isna().sum()\n",
    "# Creamos dataframe con columnas y missing values\n",
    "missing_df = pd.DataFrame([mobile_df.columns,missing]).transpose()\n",
    "# Nos quedamos solo con  las columnas que tengan missing\n",
    "for index in missing_df.index:\n",
    "    if missing_df.iloc[index,1] > 0:\n",
    "        print('Columna: {}, N of NaN: {}, Index in Dataframe: {}'.format(missing_df.iloc[index,0],missing_df.iloc[index,1],index))"
   ]
  },
  {
   "cell_type": "markdown",
   "metadata": {},
   "source": [
    "Como puede verse no se ha obtenido ningún resultado, lo que indica que no hay elementos NaN en el DataSet. Para hacerlo más visual, se mostrarán los datos con la libreria missingno, con la cual podemos ver visualmente si hay valores faltantes."
   ]
  },
  {
   "cell_type": "code",
   "execution_count": 11,
   "metadata": {},
   "outputs": [
    {
     "data": {
      "image/png": "[encoded data removed]",
      "text/plain": [
       "<Figure size 720x360 with 1 Axes>"
      ]
     },
     "metadata": {
      "needs_background": "light"
     },
     "output_type": "display_data"
    }
   ],
   "source": [
    "missingno.matrix(mobile_df,sparkline=False, figsize=(10,5), fontsize=12, color=(0.27, 0.52, 1.0));"
   ]
  },
  {
   "cell_type": "markdown",
   "metadata": {},
   "source": [
    "Puede verse como no aparecen huecos en la representación, lo que indica que el dataset se encuentra completo y no hay valores faltantes."
   ]
  },
  {
   "cell_type": "markdown",
   "metadata": {},
   "source": [
    "## 4. Aplicación de Maquinas de Vectores de Soporte"
   ]
  },
  {
   "cell_type": "code",
   "execution_count": 12,
   "metadata": {},
   "outputs": [],
   "source": [
    "# Imports\n",
    "from sklearn import preprocessing\n",
    "from sklearn.model_selection import train_test_split, KFold, cross_val_score\n",
    "from sklearn import svm\n",
    "from sklearn.metrics import classification_report, confusion_matrix, f1_score, accuracy_score, precision_score, recall_score\n",
    "%matplotlib inline \n",
    "import matplotlib.pyplot as plt\n",
    "import itertools"
   ]
  },
  {
   "cell_type": "markdown",
   "metadata": {},
   "source": [
    "En este apartado se aplicará el método de Maquinas de Vectores de Soporte para entrenar el clasificador. Hay que destacar que a diferencia de con método de redes neuronales, no se normalizará el dataset a no ser que los resultados obtenidos sean deficientes. Esto se debe, en parte, para evitar limitar el efecto que tienen variables con alto valor como la memoria RAM, la cual esta muy correlacionada con el precio."
   ]
  },
  {
   "cell_type": "markdown",
   "metadata": {},
   "source": [
    "### 4.1 División del dataset"
   ]
  },
  {
   "cell_type": "markdown",
   "metadata": {},
   "source": [
    "En primer lugar se dividirá el dataset en los subconjuntos de entrenamiento y test."
   ]
  },
  {
   "cell_type": "code",
   "execution_count": 13,
   "metadata": {},
   "outputs": [
    {
     "name": "stdout",
     "output_type": "stream",
     "text": [
      "Set de entrenamiento: (1600, 20) (1600,)\n",
      "Set de test: (400, 20) (400,)\n"
     ]
    }
   ],
   "source": [
    "cols = list(mobile_df.columns[0:len(mobile_df.columns)-1])\n",
    "X = np.asarray(mobile_df[cols].values)\n",
    "Y = np.asarray(mobile_df['price_range'])\n",
    "X_train, X_test, Y_train, Y_test = train_test_split(X, Y, test_size = 0.2, random_state = 4)\n",
    "print ('Set de entrenamiento:', X_train.shape,  Y_train.shape)\n",
    "print ('Set de test:', X_test.shape,  Y_test.shape)"
   ]
  },
  {
   "cell_type": "markdown",
   "metadata": {},
   "source": [
    "### 4.2 Comparación de diferentes funciones de kernel"
   ]
  },
  {
   "cell_type": "markdown",
   "metadata": {},
   "source": [
    "A continuación aplicaremos el algorimo. Este posee diferentes funciones de kernel:  \n",
    "\n",
    "    1.Linear  \n",
    "    2.Polynomial  \n",
    "    3.Radial basis function (RBF)  \n",
    "    4.Sigmoid  \n",
    "   \n",
    "Se realizará el entrenamiento del modelo utilizando las cuatro opciones de función y posteriormente se compararan los resultados en función de las metricas obtenidas. De esta forma se seleccionará para el método SVM el mejor kernel para esta actividad.     "
   ]
  },
  {
   "cell_type": "code",
   "execution_count": 14,
   "metadata": {},
   "outputs": [
    {
     "data": {
      "text/plain": [
       "SVC(kernel='sigmoid')"
      ]
     },
     "execution_count": 14,
     "metadata": {},
     "output_type": "execute_result"
    }
   ],
   "source": [
    "# Función de kernel lineal\n",
    "svm_linear = svm.SVC(kernel = 'linear')\n",
    "svm_linear.fit(X_train,Y_train)\n",
    "# Función de kernel polinómica\n",
    "svm_poly = svm.SVC(kernel = 'poly')\n",
    "svm_poly.fit(X_train,Y_train)\n",
    "# Función de kernel RBF\n",
    "svm_rbf = svm.SVC(kernel = 'rbf')\n",
    "svm_rbf.fit(X_train,Y_train)\n",
    "# Función de kernel sigmoide\n",
    "svm_sigmoid = svm.SVC(kernel = 'sigmoid')\n",
    "svm_sigmoid.fit(X_train,Y_train)"
   ]
  },
  {
   "cell_type": "markdown",
   "metadata": {},
   "source": [
    "Una vez entrenados los modelos procedemos a realizar las predicciones con el set de test:"
   ]
  },
  {
   "cell_type": "code",
   "execution_count": 15,
   "metadata": {},
   "outputs": [],
   "source": [
    "# Función de kernel lineal\n",
    "yhat_linear = svm_linear.predict(X_test)\n",
    "# Función de kernel polinómica\n",
    "yhat_poly = svm_poly.predict(X_test)\n",
    "# Función de kernel RBF\n",
    "yhat_rbf = svm_rbf.predict(X_test)\n",
    "# Función de kernel sigmoide\n",
    "yhat_sigmoid = svm_sigmoid.predict(X_test)"
   ]
  },
  {
   "cell_type": "markdown",
   "metadata": {},
   "source": [
    "### 4.3 Evaluación de los modelos entrenados con diferentes kernel"
   ]
  },
  {
   "cell_type": "markdown",
   "metadata": {},
   "source": [
    "Una vez realizadas las predicciones se pasará a evaluar los modelos entrenados. Para la evaluación se mostrará la matriz de confusión de cada modelo entrenado y se analizarán los resultados utilizando diversas metricas."
   ]
  },
  {
   "cell_type": "code",
   "execution_count": 16,
   "metadata": {},
   "outputs": [],
   "source": [
    "# Función para imprimir la matriz de confusión\n",
    "def plot_confusion_matrix(cm, classes,\n",
    "                          normalize=False,\n",
    "                          title='Confusion matrix',\n",
    "                          cmap=plt.cm.Blues):\n",
    "    \"\"\"\n",
    "    This function prints and plots the confusion matrix.\n",
    "    Normalization can be applied by setting `normalize=True`.\n",
    "    \"\"\"\n",
    "    '''\n",
    "    if normalize:\n",
    "        cm = cm.astype('float') / cm.sum(axis=1)[:, np.newaxis]\n",
    "        print(\"Normalized confusion matrix\")\n",
    "    else:\n",
    "        print('Confusion matrix, without normalization')\n",
    "\n",
    "    #print(cm)\n",
    "    '''\n",
    "\n",
    "    plt.imshow(cm, interpolation='nearest', cmap=cmap)\n",
    "    plt.title(title)\n",
    "    plt.colorbar()\n",
    "    tick_marks = np.arange(len(classes))\n",
    "    plt.xticks(tick_marks, classes, rotation=45)\n",
    "    plt.yticks(tick_marks, classes)\n",
    "\n",
    "    fmt = '.2f' if normalize else 'd'\n",
    "    thresh = cm.max() / 2.\n",
    "    for i, j in itertools.product(range(cm.shape[0]), range(cm.shape[1])):\n",
    "        plt.text(j, i, format(cm[i, j], fmt),\n",
    "                 horizontalalignment=\"center\",\n",
    "                 color=\"white\" if cm[i, j] > thresh else \"black\")\n",
    "\n",
    "    plt.tight_layout()\n",
    "    plt.ylabel('True label')\n",
    "    plt.xlabel('Predicted label')"
   ]
  },
  {
   "cell_type": "code",
   "execution_count": 17,
   "metadata": {},
   "outputs": [
    {
     "data": {
      "image/png": "[encoded data removed]",
      "text/plain": [
       "<Figure size 432x288 with 2 Axes>"
      ]
     },
     "metadata": {
      "needs_background": "light"
     },
     "output_type": "display_data"
    },
    {
     "data": {
      "image/png": "[encoded data removed]",
      "text/plain": [
       "<Figure size 432x288 with 2 Axes>"
      ]
     },
     "metadata": {
      "needs_background": "light"
     },
     "output_type": "display_data"
    },
    {
     "data": {
      "image/png": "[encoded data removed]",
      "text/plain": [
       "<Figure size 432x288 with 2 Axes>"
      ]
     },
     "metadata": {
      "needs_background": "light"
     },
     "output_type": "display_data"
    },
    {
     "data": {
      "image/png": "[encoded data removed]",
      "text/plain": [
       "<Figure size 432x288 with 2 Axes>"
      ]
     },
     "metadata": {
      "needs_background": "light"
     },
     "output_type": "display_data"
    }
   ],
   "source": [
    "# Matrices de confusión para cada modelo\n",
    "# Lineal\n",
    "conf_matrix_linear = confusion_matrix(Y_test,yhat_linear,labels = [0,1,2,3])\n",
    "plt.figure()\n",
    "plot_confusion_matrix(conf_matrix_linear, classes=['0','1','2','3'],normalize= False,  title='Confusion matrix Linear Model')\n",
    "# Polinómico\n",
    "conf_matrix_poly = confusion_matrix(Y_test,yhat_poly,labels = [0,1,2,3])\n",
    "plt.figure()\n",
    "plot_confusion_matrix(conf_matrix_poly, classes=['0','1','2','3'],normalize= False,  title='Confusion matrix Polynomial Model')\n",
    "# RBF\n",
    "conf_matrix_rbf = confusion_matrix(Y_test,yhat_rbf,labels = [0,1,2,3])\n",
    "plt.figure()\n",
    "plot_confusion_matrix(conf_matrix_rbf, classes=['0','1','2','3'],normalize= False,  title='Confusion matrix RBF Model')\n",
    "# Sigmoide\n",
    "conf_matrix_sigmoid = confusion_matrix(Y_test,yhat_sigmoid,labels = [0,1,2,3])\n",
    "plt.figure()\n",
    "plot_confusion_matrix(conf_matrix_sigmoid, classes=['0','1','2','3'],normalize= False,  title='Confusion matrix Sigmoid Model')"
   ]
  },
  {
   "cell_type": "code",
   "execution_count": 22,
   "metadata": {},
   "outputs": [],
   "source": [
    "def calculate_metrics(real, predicted):\n",
    "    print(\"Accuracy: {:.4f}\".format(accuracy_score(real, predicted)))\n",
    "    print(\"Precision: {:.4f}\".format(precision_score(real, predicted,average = 'weighted')))\n",
    "    print(\"Recall: {:.4f}\".format(recall_score(real, predicted,average = 'weighted')))\n",
    "    print(\"F1: {:.4f}\".format(f1_score(real, predicted,average = 'weighted',labels=np.unique(predicted))))"
   ]
  },
  {
   "cell_type": "code",
   "execution_count": 23,
   "metadata": {},
   "outputs": [
    {
     "name": "stdout",
     "output_type": "stream",
     "text": [
      "---------------------------------------\n",
      "Modelo Lineal\n",
      "Accuracy: 0.9825\n",
      "Precision: 0.9826\n",
      "Recall: 0.9825\n",
      "F1: 0.9825\n",
      "---------------------------------------\n",
      "Modelo Polinómico\n",
      "Accuracy: 0.9725\n",
      "Precision: 0.9725\n",
      "Recall: 0.9725\n",
      "F1: 0.9725\n",
      "---------------------------------------\n",
      "Modelo RBF\n",
      "Accuracy: 0.9750\n",
      "Precision: 0.9754\n",
      "Recall: 0.9750\n",
      "F1: 0.9750\n",
      "---------------------------------------\n",
      "Modelo Sigmoide\n",
      "Accuracy: 0.1700\n",
      "Precision: 0.2179\n",
      "Recall: 0.1700\n",
      "F1: 0.2406\n",
      "---------------------------------------\n"
     ]
    }
   ],
   "source": [
    "#Metricas para cada modelo\n",
    "#Lineal\n",
    "print('---------------------------------------')\n",
    "print('Modelo Lineal')\n",
    "calculate_metrics(Y_test,yhat_linear)\n",
    "print('---------------------------------------')\n",
    "#Polinómico\n",
    "print('Modelo Polinómico')\n",
    "calculate_metrics(Y_test,yhat_poly)\n",
    "print('---------------------------------------')\n",
    "#RBF\n",
    "print('Modelo RBF')\n",
    "calculate_metrics(Y_test,yhat_rbf)\n",
    "print('---------------------------------------')\n",
    "#Sigmoide\n",
    "print('Modelo Sigmoide')\n",
    "calculate_metrics(Y_test,yhat_sigmoid)\n",
    "print('---------------------------------------')"
   ]
  },
  {
   "cell_type": "markdown",
   "metadata": {},
   "source": [
    "Puede verse como el mejor resultado se obtiene con la <b>función lineal de kernel</b>. En el caso de la función polinómica y RBF también se obtienen buenos resultados. Sin embargo, utilizando la función sigmoide para el kernel el resultado obtenido es mucho peor que con las otras funciones.  \n",
    "Por tanto, se elegirá el modelo con kernel lineal y se procederá a realizar validación cruzada. En concreto se utilizará el metodo k-fold con un valor de k = 5. Con ello pretendemos ver la influencia que la division en subconjuntos de entrenamiento y test tiene en los resultados obtenidos."
   ]
  },
  {
   "cell_type": "markdown",
   "metadata": {},
   "source": [
    "### 4.4 Entrenamiento con kernel lineal utilizando validación cruzada K-fold"
   ]
  },
  {
   "cell_type": "code",
   "execution_count": 18,
   "metadata": {},
   "outputs": [],
   "source": [
    "# Entrenamos y evaluamos el modelo con SVM utilizando validación cruzada\n",
    "cv = KFold(n_splits=5, shuffle=False)\n",
    "SVM_model = svm.SVC(kernel = 'linear')\n",
    "scores = cross_val_score(SVM_model, X, Y, scoring='accuracy', cv=cv, n_jobs=-1)"
   ]
  },
  {
   "cell_type": "code",
   "execution_count": 19,
   "metadata": {},
   "outputs": [
    {
     "name": "stdout",
     "output_type": "stream",
     "text": [
      "Accuracy:  0.975(mean) (0.004)(std)\n"
     ]
    }
   ],
   "source": [
    "# Imprimimos la accuracy obtenida\n",
    "print('Accuracy:  %.3f(mean) (%.3f)(std)' % (np.mean(scores), np.std(scores)))"
   ]
  },
  {
   "cell_type": "markdown",
   "metadata": {},
   "source": [
    "La accuracy media obtenida para los 5 modelos entrenados es de 0.97 y su desviación típica de 0.004\n",
    "Puede verse que utilizando el método de validación cruzada la media de la accuracy baja muy poco respecto a la obtenida para una división simple del dataset. Sin embargo la desviación tipica presentada al utilizar diferentes combinaciones de dataset es mínima, por lo que se asume que se trata de un dataset bastante homogeneo en sus valores, y de cara a futuras comparaciones con otros métodos podemos utilizar una división simple del dataset."
   ]
  },
  {
   "cell_type": "markdown",
   "metadata": {},
   "source": [
    "## 5. Aplicación de Redes de Neuronas"
   ]
  },
  {
   "cell_type": "code",
   "execution_count": 20,
   "metadata": {},
   "outputs": [],
   "source": [
    "# Imports\n",
    "from keras.models import Sequential\n",
    "from keras.layers import Dense\n",
    "from keras.utils import to_categorical\n",
    "from sklearn.preprocessing import MinMaxScaler"
   ]
  },
  {
   "cell_type": "markdown",
   "metadata": {},
   "source": [
    "### 5.1 Normalización y aplicación de one hot encoding"
   ]
  },
  {
   "cell_type": "markdown",
   "metadata": {},
   "source": [
    "En primer lugar se procederá a normalizar las variables del dataset para favorecer el entrenamiento de la red neuronal. En el caso de la variable dependiente price_range se le aplicará la técnica de one hot encoding para representarlo como un vector binario."
   ]
  },
  {
   "cell_type": "code",
   "execution_count": 21,
   "metadata": {},
   "outputs": [],
   "source": [
    "# Normalización de las variables independientes del dataframe usando el MinMaxScaler para que estén entre 0 y 1\n",
    "# Obtenemos las variables independientes del dataframe\n",
    "cols = list(mobile_df.columns[0:len(mobile_df.columns)-1])\n",
    "indp_vars = np.asarray(mobile_df[cols].values)\n",
    "# Normalizamos\n",
    "scaler = MinMaxScaler()\n",
    "X_scaled = scaler.fit_transform(indp_vars)"
   ]
  },
  {
   "cell_type": "code",
   "execution_count": 22,
   "metadata": {},
   "outputs": [],
   "source": [
    "# Aplicación de one hot encoding para la variable dependiente (la cual debe estar como entero)\n",
    "# Extraemos los one hot encoded de la variable dependiente\n",
    "price_range_ohe = to_categorical(mobile_df['price_range'],dtype = 'int32')"
   ]
  },
  {
   "cell_type": "markdown",
   "metadata": {},
   "source": [
    "### 5.2 Arquitectura de la NN y entrenamiento"
   ]
  },
  {
   "cell_type": "markdown",
   "metadata": {},
   "source": [
    "Una vez normalizado el dataset y aplicado el one hot encoding a la variable dependiente, se procede a separar el dataset en lo subconjuntos de test y entrenamiento."
   ]
  },
  {
   "cell_type": "code",
   "execution_count": 23,
   "metadata": {},
   "outputs": [],
   "source": [
    "X_train1, X_test1, Y_train1, Y_test1 = train_test_split(X_scaled, price_range_ohe, test_size = 0.2, random_state = 4)"
   ]
  },
  {
   "cell_type": "markdown",
   "metadata": {},
   "source": [
    "A continuación se definirá el modelo de la red neuronal que se utilizará para el problema de clasificación. Para ello se utilizará la libreria Keras."
   ]
  },
  {
   "cell_type": "code",
   "execution_count": 24,
   "metadata": {},
   "outputs": [],
   "source": [
    "# Define Keras model\n",
    "model_nn = Sequential()\n",
    "model_nn.add(Dense(32, input_dim = 20, activation = 'relu'))\n",
    "model_nn.add(Dense(20, activation = 'relu'))\n",
    "model_nn.add(Dense(4, activation = 'sigmoid'))\n",
    "# Compile Keras model\n",
    "model_nn.compile(loss = 'binary_crossentropy', optimizer = 'adam', metrics = ['accuracy'])"
   ]
  },
  {
   "cell_type": "markdown",
   "metadata": {},
   "source": [
    "Puede verse que se ha utilizado un modelo con dos capas ocultas con funciones de activación relu y una función de activación sigmoide para la capa de salida. Para la función de coste se ha usado la binary_crossentroy y el optimizador usado es el adam.\n",
    "Una vez definida la arquitectura se procede a entrenar el modelo con el dataset de entrenamiento. Para ello se entrenará durante 40 épocas con un tamaño de lotes de 4."
   ]
  },
  {
   "cell_type": "code",
   "execution_count": 25,
   "metadata": {},
   "outputs": [
    {
     "name": "stdout",
     "output_type": "stream",
     "text": [
      "Epoch 1/40\n",
      "400/400 [==============================] - 0s 1ms/step - loss: 0.5621 - accuracy: 0.3519\n",
      "Epoch 2/40\n",
      "400/400 [==============================] - 1s 1ms/step - loss: 0.4362 - accuracy: 0.5938\n",
      "Epoch 3/40\n",
      "400/400 [==============================] - 0s 1ms/step - loss: 0.3570 - accuracy: 0.7444\n",
      "Epoch 4/40\n",
      "400/400 [==============================] - 0s 1ms/step - loss: 0.3134 - accuracy: 0.7944\n",
      "Epoch 5/40\n",
      "400/400 [==============================] - 0s 1ms/step - loss: 0.2686 - accuracy: 0.8256\n",
      "Epoch 6/40\n",
      "400/400 [==============================] - 0s 1ms/step - loss: 0.2323 - accuracy: 0.8694\n",
      "Epoch 7/40\n",
      "400/400 [==============================] - 0s 1ms/step - loss: 0.2033 - accuracy: 0.8775\n",
      "Epoch 8/40\n",
      "400/400 [==============================] - 0s 1ms/step - loss: 0.1768 - accuracy: 0.9013\n",
      "Epoch 9/40\n",
      "400/400 [==============================] - 0s 982us/step - loss: 0.1592 - accuracy: 0.9075\n",
      "Epoch 10/40\n",
      "400/400 [==============================] - 0s 980us/step - loss: 0.1428 - accuracy: 0.9150\n",
      "Epoch 11/40\n",
      "400/400 [==============================] - 0s 1ms/step - loss: 0.1288 - accuracy: 0.9225\n",
      "Epoch 12/40\n",
      "400/400 [==============================] - 0s 1ms/step - loss: 0.1160 - accuracy: 0.9388\n",
      "Epoch 13/40\n",
      "400/400 [==============================] - 0s 996us/step - loss: 0.1072 - accuracy: 0.9406\n",
      "Epoch 14/40\n",
      "400/400 [==============================] - 0s 965us/step - loss: 0.1008 - accuracy: 0.9400\n",
      "Epoch 15/40\n",
      "400/400 [==============================] - 0s 1ms/step - loss: 0.0957 - accuracy: 0.9419\n",
      "Epoch 16/40\n",
      "400/400 [==============================] - 0s 956us/step - loss: 0.0867 - accuracy: 0.9494\n",
      "Epoch 17/40\n",
      "400/400 [==============================] - 0s 1ms/step - loss: 0.0860 - accuracy: 0.9475\n",
      "Epoch 18/40\n",
      "400/400 [==============================] - 0s 1ms/step - loss: 0.0797 - accuracy: 0.9481\n",
      "Epoch 19/40\n",
      "400/400 [==============================] - 0s 1ms/step - loss: 0.0759 - accuracy: 0.9475\n",
      "Epoch 20/40\n",
      "400/400 [==============================] - 0s 1ms/step - loss: 0.0703 - accuracy: 0.9606\n",
      "Epoch 21/40\n",
      "400/400 [==============================] - 0s 1ms/step - loss: 0.0716 - accuracy: 0.9506\n",
      "Epoch 22/40\n",
      "400/400 [==============================] - 0s 1ms/step - loss: 0.0662 - accuracy: 0.9594\n",
      "Epoch 23/40\n",
      "400/400 [==============================] - 0s 1ms/step - loss: 0.0631 - accuracy: 0.9650\n",
      "Epoch 24/40\n",
      "400/400 [==============================] - 0s 1ms/step - loss: 0.0596 - accuracy: 0.9638\n",
      "Epoch 25/40\n",
      "400/400 [==============================] - 0s 1ms/step - loss: 0.0618 - accuracy: 0.9594\n",
      "Epoch 26/40\n",
      "400/400 [==============================] - 0s 1ms/step - loss: 0.0577 - accuracy: 0.9588\n",
      "Epoch 27/40\n",
      "400/400 [==============================] - 0s 1ms/step - loss: 0.0547 - accuracy: 0.9719\n",
      "Epoch 28/40\n",
      "400/400 [==============================] - 0s 1ms/step - loss: 0.0539 - accuracy: 0.9681\n",
      "Epoch 29/40\n",
      "400/400 [==============================] - 0s 1ms/step - loss: 0.0513 - accuracy: 0.9700\n",
      "Epoch 30/40\n",
      "400/400 [==============================] - 0s 998us/step - loss: 0.0501 - accuracy: 0.9631\n",
      "Epoch 31/40\n",
      "400/400 [==============================] - 0s 1ms/step - loss: 0.0487 - accuracy: 0.9744\n",
      "Epoch 32/40\n",
      "400/400 [==============================] - 0s 1ms/step - loss: 0.0479 - accuracy: 0.9706\n",
      "Epoch 33/40\n",
      "400/400 [==============================] - 0s 1ms/step - loss: 0.0476 - accuracy: 0.9694\n",
      "Epoch 34/40\n",
      "400/400 [==============================] - 0s 1ms/step - loss: 0.0463 - accuracy: 0.9694\n",
      "Epoch 35/40\n",
      "400/400 [==============================] - 0s 1ms/step - loss: 0.0444 - accuracy: 0.9712\n",
      "Epoch 36/40\n",
      "400/400 [==============================] - 0s 972us/step - loss: 0.0434 - accuracy: 0.9756\n",
      "Epoch 37/40\n",
      "400/400 [==============================] - 0s 1ms/step - loss: 0.0417 - accuracy: 0.9731\n",
      "Epoch 38/40\n",
      "400/400 [==============================] - 0s 1ms/step - loss: 0.0399 - accuracy: 0.9775\n",
      "Epoch 39/40\n",
      "400/400 [==============================] - 0s 1ms/step - loss: 0.0420 - accuracy: 0.9669\n",
      "Epoch 40/40\n",
      "400/400 [==============================] - 0s 1ms/step - loss: 0.0419 - accuracy: 0.9737\n"
     ]
    },
    {
     "data": {
      "text/plain": [
       "<tensorflow.python.keras.callbacks.History at 0x1b269ff7a00>"
      ]
     },
     "execution_count": 25,
     "metadata": {},
     "output_type": "execute_result"
    }
   ],
   "source": [
    "# Fit Keras model on the dataset\n",
    "model_nn.fit(X_train1,Y_train1,epochs = 40, batch_size = 4)"
   ]
  },
  {
   "cell_type": "markdown",
   "metadata": {},
   "source": [
    "### 5.3 Evaluación del modelo"
   ]
  },
  {
   "cell_type": "markdown",
   "metadata": {},
   "source": [
    "Una vez entrenado se pasará a evaluar el modelo hallado utilizando el dataset de test."
   ]
  },
  {
   "cell_type": "code",
   "execution_count": 26,
   "metadata": {},
   "outputs": [],
   "source": [
    "predictions = model_nn.predict(X_test1)"
   ]
  },
  {
   "cell_type": "markdown",
   "metadata": {},
   "source": [
    "Una vez realizada la predicción se procedera a calcular la matriz de confusión y otras metricas para evaluar el resultado obtenido"
   ]
  },
  {
   "cell_type": "markdown",
   "metadata": {},
   "source": [
    "En primer lugar se deshace el one hot encoded de las variables predecidas y también de la variable dependiente del dataset de test para poder compararlas:"
   ]
  },
  {
   "cell_type": "code",
   "execution_count": 27,
   "metadata": {},
   "outputs": [],
   "source": [
    "# Obtenemos el rango con mayor probabilidad\n",
    "predicted_price_range = []\n",
    "Y_test_price_range = []\n",
    "for i in range(len(predictions)):\n",
    "    predicted_price_range.append(np.argmax(predictions[i]))\n",
    "    Y_test_price_range.append(np.argmax(Y_test1[i]))"
   ]
  },
  {
   "cell_type": "markdown",
   "metadata": {},
   "source": [
    "Creamos la matriz de confusión:"
   ]
  },
  {
   "cell_type": "code",
   "execution_count": 28,
   "metadata": {},
   "outputs": [
    {
     "data": {
      "image/png": "[encoded data removed]",
      "text/plain": [
       "<Figure size 432x288 with 2 Axes>"
      ]
     },
     "metadata": {
      "needs_background": "light"
     },
     "output_type": "display_data"
    }
   ],
   "source": [
    "conf_matrix_nn = confusion_matrix(Y_test_price_range,predicted_price_range,labels = [0,1,2,3])\n",
    "plt.figure()\n",
    "plot_confusion_matrix(conf_matrix_linear, classes=['0','1','2','3'],normalize= False,  title='Confusion matrix Neural Network model')"
   ]
  },
  {
   "cell_type": "markdown",
   "metadata": {},
   "source": [
    "A continuación se muestran el resto de metricas evaluadas también en el algoritmo SVM:"
   ]
  },
  {
   "cell_type": "code",
   "execution_count": 29,
   "metadata": {},
   "outputs": [
    {
     "name": "stdout",
     "output_type": "stream",
     "text": [
      "Método Neural Network\n",
      "Accuracy: 0.9575\n",
      "Precision: 0.9584\n",
      "Recall: 0.9575\n",
      "F1: 0.9575\n"
     ]
    }
   ],
   "source": [
    "#Metricas Neural Network classification\n",
    "print('Método Neural Network')\n",
    "calculate_metrics(Y_test_price_range,predicted_price_range)"
   ]
  },
  {
   "cell_type": "markdown",
   "metadata": {},
   "source": [
    "## 6. Comparación de Maquinas de Vectores de Soporte y Redes de Neuronas"
   ]
  },
  {
   "cell_type": "markdown",
   "metadata": {},
   "source": [
    "### 6.1 Comparación de metricas"
   ]
  },
  {
   "cell_type": "markdown",
   "metadata": {},
   "source": [
    "En este apartado se compararan los resultados obtenidos por ambos métodos. En primer lugar, se destaca que para el método SVM se ha obtenido un mejor comportamiento utilizando el kernel lineal. Por tanto, se compararán los resultados obtenidos por el método SVM con kernel lineal con los obtenidos con el modelo de redes neuronales generado.\n",
    "En cuanto al SVM, con una división simple del dataset se han obtenido las siguientes métricas:\n",
    "- Accuracy: 0.9825\n",
    "- Precision:0.9826\n",
    "- Recall: 0.9825\n",
    "- F1: 0.9825  \n",
    "\n",
    "Hay que destacar que en el caso de utilizar validación cruzada para la divisón y entrenamiento del modelo, la accuracy media obtenida era ligeramente menor, concretamente de 0.975.  \n",
    "En el caso del modelo de redes neuronales, las metricas obtenidas han sido las siguientes:\n",
    "- Accuracy: 0.9575 \n",
    "- Precision: 0.9584\n",
    "- Recall: 0.9575 \n",
    "- F1: 0.9575 \n",
    "\n",
    "Por tanto, en vista de las metricas obtenidas <b>podemos determinar que el modelo con SVM funciona ligeramente mejor que el modelo implementado con redes neuronales para este conjunto de datos</b>."
   ]
  },
  {
   "cell_type": "markdown",
   "metadata": {},
   "source": [
    "### 6.2 Evaluación de overfitting"
   ]
  },
  {
   "cell_type": "markdown",
   "metadata": {},
   "source": [
    "Por otro lado, se comparará tambien la presencia de overfitting en el modelo entrenado. Para ello se evaluará la accuracy tanto del entrenamiento como del test para ambos métodos. En caso de no presentar overfitting, la accuracy obtenida por el dataset de entrenamiento debería ser similar a la del test"
   ]
  },
  {
   "cell_type": "code",
   "execution_count": 34,
   "metadata": {},
   "outputs": [
    {
     "name": "stdout",
     "output_type": "stream",
     "text": [
      "SVM:\n",
      "Training Accuracy: 0.989\n",
      "Test Accuracy: 0.983\n",
      "----------------------------\n",
      "Redes de neuronas:\n",
      "Training Accuracy: 0.983\n",
      "Test Accuracy: 0.958\n"
     ]
    }
   ],
   "source": [
    "print('SVM:')\n",
    "# Imprimir accuracy de entrenamiento con SVM\n",
    "SVM_training_pred = svm_linear.predict(X_train)\n",
    "SVM_training_acc = accuracy_score(Y_train, SVM_training_pred)\n",
    "print('Training Accuracy: {:.3f}'.format(SVM_training_acc))\n",
    "# Imprimir accuracy de test con SVM\n",
    "SVM_test_acc = accuracy_score(Y_test, yhat_linear)\n",
    "print('Test Accuracy: {:.3f}'.format(SVM_test_acc))\n",
    "print('----------------------------')\n",
    "print('Redes de neuronas:')\n",
    "# Imprimir accuracy de entreamiento con Redes de Neuronas\n",
    "NN_training_pred = model_nn.predict(X_train1)\n",
    " # Deshacemos el one hot encoding\n",
    "Y_train_price_range = []\n",
    "NN_training_pred2 = []\n",
    "for i in range(len(Y_train1)):\n",
    "    Y_train_price_range.append(np.argmax(Y_train1[i]))\n",
    "    NN_training_pred2.append(np.argmax(NN_training_pred[i]))\n",
    "NN_training_acc = accuracy_score(Y_train_price_range,NN_training_pred2)\n",
    "print('Training Accuracy: {:.3f}'.format(NN_training_acc))\n",
    "# Imprimir accuracy de test con Redes de Neuronas\n",
    "NN_test_acc = accuracy_score(Y_test_price_range,predicted_price_range)\n",
    "print('Test Accuracy: {:.3f}'.format(NN_test_acc))"
   ]
  },
  {
   "cell_type": "markdown",
   "metadata": {},
   "source": [
    "Puede verse como en el caso de SVM presenta una <b> accuracy de entrenamiento de 0.988 </b> y una <b>accuracy de test de 0.983</b>. Por tanto al no haber practicamente diferencia podemos considerar que el modelo entrenado no presenta overfitting.  \n",
    "En el caso del modelo de redes de neuronas se ha obtenido una <b> accuracy de entrenamiento de 0.983 </b> y una <b>accuracy de test de 0.958</b>, lo cual significa que el modelo entrenado presenta un ligero overfitting ya que aunque hay diferencia entre los valores, esta no es muy elevada.\n"
   ]
  },
  {
   "cell_type": "markdown",
   "metadata": {},
   "source": [
    "## 7. Ventajas y desventajas de Máquinas de Vectores de Soporte"
   ]
  },
  {
   "cell_type": "markdown",
   "metadata": {},
   "source": [
    "En primer lugar, en cuando a las <b>ventajas</b> de las SVM se puede destacar que sirven tanto para problemas de clasificación como de predicción. Además, se ven poco afectadas por datos ruidosos y no suelen caer en problemas de sobreajuste.  \n",
    "Por otro lado, respecto a los <b>inconvenientes</b> destaca sobre todo la necesidad de probar diferentes combinaciones de kernel y parámetros para obtener un buen modelo. Otro inconveniente es el tiempo de entrenamiento, el cual es largo si se utilizan grandes cantidades de datos. Un último inconveniente es que se trata de un modelo de caja negra, en el cual es muy complicado interpretar los resultados obtenidos."
   ]
  },
  {
   "cell_type": "markdown",
   "metadata": {},
   "source": [
    "## 8. Ventajas y desventajas de Redes de Neuronas"
   ]
  },
  {
   "cell_type": "markdown",
   "metadata": {},
   "source": [
    "En cuanto las <b>ventajas</b> de las redes de neuronas, destaca en primer lugar su versatilidad ya que se utilizan tanto en problemas de clasificación, predicción numérica e incluso aprendizaje no supervisado. Además son uno de los modelos con mayor precisión hoy en día.  \n",
    "Respecto a los <b>inconvenientes</b> de las redes de neuronas, destaca el alto coste computacional para entrenarlas, sobre todo si la topología de la red es compleja. Otro inconveniente es que tienden a hacer underfit u overfit en los datos de entrenamiento. Por último, se tratan de un modelo de caja negra donde es muy complicado interpretar el resultado."
   ]
  },
  {
   "cell_type": "markdown",
   "metadata": {},
   "source": [
    "## 9. Conclusiones"
   ]
  },
  {
   "cell_type": "markdown",
   "metadata": {},
   "source": [
    "En esta actividad se han aplicado dos modelos diferentes para realizar un problema de clasificación multiclase en diferentes rangos de precio de venta de telefonos moviles. Como se ha podido ver, se han obtenido muy buenos resultados utilizando tanto SVM como redes de neuronas, aunque los resultados del SVM han superado ligeramente al de redes de neuronas. Aun así, es muy probable que el modelo de redes de neuronas se pueda mejorar mediante la variación de sus parámetros y arquitectura de la red."
   ]
  }
 ],
 "metadata": {
  "kernelspec": {
   "display_name": "Python 3",
   "language": "python",
   "name": "python3"
  },
  "language_info": {
   "codemirror_mode": {
    "name": "ipython",
    "version": 3
   },
   "file_extension": ".py",
   "mimetype": "text/x-python",
   "name": "python",
   "nbconvert_exporter": "python",
   "pygments_lexer": "ipython3",
   "version": "3.8.3"
  }
 },
 "nbformat": 4,
 "nbformat_minor": 4
}
