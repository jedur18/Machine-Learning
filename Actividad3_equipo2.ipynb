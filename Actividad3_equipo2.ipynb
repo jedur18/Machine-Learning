{
 "cells": [
  {
   "cell_type": "markdown",
   "metadata": {},
   "source": [
    "# Actividad 3: Detección de anomalías y Técnicas de Agrupamiento"
   ]
  },
  {
   "cell_type": "markdown",
   "metadata": {},
   "source": [
    "<center><b> Equipo 2: </b></center>  \n",
    "<center><b> Alicia Amores Sánchez </b></center> \n",
    "<center><b> Eduardo Reyero Ibáñez </b></center>\n",
    "<center><b> Gerard Vazquez Rubio </b></center>\n",
    "<center><b> Javier Fernandez Lasso </b></center>"
   ]
  },
  {
   "cell_type": "markdown",
   "metadata": {},
   "source": [
    "<img src=\"tabla_trabajo.png\">"
   ]
  },
  {
   "cell_type": "markdown",
   "metadata": {},
   "source": [
    "## 1. Importar datos"
   ]
  },
  {
   "cell_type": "code",
   "execution_count": 1,
   "metadata": {},
   "outputs": [],
   "source": [
    "# Librerias\n",
    "import pandas as pd\n",
    "import numpy as np\n",
    "import missingno\n",
    "%matplotlib inline \n",
    "import matplotlib.pyplot as plt\n",
    "from mpl_toolkits.mplot3d import Axes3D\n",
    "import itertools\n",
    "from sklearn.ensemble import IsolationForest\n",
    "from sklearn.cluster import KMeans\n",
    "from sklearn.model_selection import train_test_split\n",
    "from sklearn.metrics import confusion_matrix, f1_score, accuracy_score, precision_score, recall_score\n",
    "from sklearn.preprocessing import MinMaxScaler\n",
    "from sklearn.model_selection import train_test_split"
   ]
  },
  {
   "cell_type": "code",
   "execution_count": 2,
   "metadata": {},
   "outputs": [
    {
     "name": "stdout",
     "output_type": "stream",
     "text": [
      "Dimensiones del dataset: (3075, 12)\n",
      "Observamos las primeras lineas:\n"
     ]
    },
    {
     "data": {
      "text/html": [
       "<div>\n",
       "<style scoped>\n",
       "    .dataframe tbody tr th:only-of-type {\n",
       "        vertical-align: middle;\n",
       "    }\n",
       "\n",
       "    .dataframe tbody tr th {\n",
       "        vertical-align: top;\n",
       "    }\n",
       "\n",
       "    .dataframe thead th {\n",
       "        text-align: right;\n",
       "    }\n",
       "</style>\n",
       "<table border=\"1\" class=\"dataframe\">\n",
       "  <thead>\n",
       "    <tr style=\"text-align: right;\">\n",
       "      <th></th>\n",
       "      <th>Merchant_id</th>\n",
       "      <th>Transaction date</th>\n",
       "      <th>Average Amount/transaction/day</th>\n",
       "      <th>Transaction_amount</th>\n",
       "      <th>Is declined</th>\n",
       "      <th>Total Number of declines/day</th>\n",
       "      <th>isForeignTransaction</th>\n",
       "      <th>isHighRiskCountry</th>\n",
       "      <th>Daily_chargeback_avg_amt</th>\n",
       "      <th>6_month_avg_chbk_amt</th>\n",
       "      <th>6-month_chbk_freq</th>\n",
       "      <th>isFradulent</th>\n",
       "    </tr>\n",
       "  </thead>\n",
       "  <tbody>\n",
       "    <tr>\n",
       "      <th>0</th>\n",
       "      <td>3160040998</td>\n",
       "      <td>NaN</td>\n",
       "      <td>100.0</td>\n",
       "      <td>3000.0</td>\n",
       "      <td>N</td>\n",
       "      <td>5</td>\n",
       "      <td>Y</td>\n",
       "      <td>Y</td>\n",
       "      <td>0</td>\n",
       "      <td>0.0</td>\n",
       "      <td>0</td>\n",
       "      <td>Y</td>\n",
       "    </tr>\n",
       "    <tr>\n",
       "      <th>1</th>\n",
       "      <td>3160040998</td>\n",
       "      <td>NaN</td>\n",
       "      <td>100.0</td>\n",
       "      <td>4300.0</td>\n",
       "      <td>N</td>\n",
       "      <td>5</td>\n",
       "      <td>Y</td>\n",
       "      <td>Y</td>\n",
       "      <td>0</td>\n",
       "      <td>0.0</td>\n",
       "      <td>0</td>\n",
       "      <td>Y</td>\n",
       "    </tr>\n",
       "    <tr>\n",
       "      <th>2</th>\n",
       "      <td>3160041896</td>\n",
       "      <td>NaN</td>\n",
       "      <td>185.5</td>\n",
       "      <td>4823.0</td>\n",
       "      <td>Y</td>\n",
       "      <td>5</td>\n",
       "      <td>N</td>\n",
       "      <td>N</td>\n",
       "      <td>0</td>\n",
       "      <td>0.0</td>\n",
       "      <td>0</td>\n",
       "      <td>Y</td>\n",
       "    </tr>\n",
       "    <tr>\n",
       "      <th>3</th>\n",
       "      <td>3160141996</td>\n",
       "      <td>NaN</td>\n",
       "      <td>185.5</td>\n",
       "      <td>5008.5</td>\n",
       "      <td>Y</td>\n",
       "      <td>8</td>\n",
       "      <td>N</td>\n",
       "      <td>N</td>\n",
       "      <td>0</td>\n",
       "      <td>0.0</td>\n",
       "      <td>0</td>\n",
       "      <td>Y</td>\n",
       "    </tr>\n",
       "    <tr>\n",
       "      <th>4</th>\n",
       "      <td>3160241992</td>\n",
       "      <td>NaN</td>\n",
       "      <td>500.0</td>\n",
       "      <td>26000.0</td>\n",
       "      <td>N</td>\n",
       "      <td>0</td>\n",
       "      <td>Y</td>\n",
       "      <td>Y</td>\n",
       "      <td>800</td>\n",
       "      <td>677.2</td>\n",
       "      <td>6</td>\n",
       "      <td>Y</td>\n",
       "    </tr>\n",
       "  </tbody>\n",
       "</table>\n",
       "</div>"
      ],
      "text/plain": [
       "   Merchant_id  Transaction date  Average Amount/transaction/day  \\\n",
       "0   3160040998               NaN                           100.0   \n",
       "1   3160040998               NaN                           100.0   \n",
       "2   3160041896               NaN                           185.5   \n",
       "3   3160141996               NaN                           185.5   \n",
       "4   3160241992               NaN                           500.0   \n",
       "\n",
       "   Transaction_amount Is declined  Total Number of declines/day  \\\n",
       "0              3000.0           N                             5   \n",
       "1              4300.0           N                             5   \n",
       "2              4823.0           Y                             5   \n",
       "3              5008.5           Y                             8   \n",
       "4             26000.0           N                             0   \n",
       "\n",
       "  isForeignTransaction isHighRiskCountry  Daily_chargeback_avg_amt  \\\n",
       "0                    Y                 Y                         0   \n",
       "1                    Y                 Y                         0   \n",
       "2                    N                 N                         0   \n",
       "3                    N                 N                         0   \n",
       "4                    Y                 Y                       800   \n",
       "\n",
       "   6_month_avg_chbk_amt  6-month_chbk_freq isFradulent  \n",
       "0                   0.0                  0           Y  \n",
       "1                   0.0                  0           Y  \n",
       "2                   0.0                  0           Y  \n",
       "3                   0.0                  0           Y  \n",
       "4                 677.2                  6           Y  "
      ]
     },
     "execution_count": 2,
     "metadata": {},
     "output_type": "execute_result"
    }
   ],
   "source": [
    "# Importar dataset\n",
    "creditCard_df = pd.read_csv('creditcardcsvpresent.csv')\n",
    "print('Dimensiones del dataset: {}'.format(creditCard_df.shape))\n",
    "print ('Observamos las primeras lineas:')\n",
    "creditCard_df.head()"
   ]
  },
  {
   "cell_type": "markdown",
   "metadata": {},
   "source": [
    "## 2. Análisis descriptivo de los datos"
   ]
  },
  {
   "cell_type": "markdown",
   "metadata": {},
   "source": [
    "### 2.1 Variables numéricas"
   ]
  },
  {
   "cell_type": "code",
   "execution_count": 3,
   "metadata": {},
   "outputs": [
    {
     "data": {
      "text/html": [
       "<div>\n",
       "<style scoped>\n",
       "    .dataframe tbody tr th:only-of-type {\n",
       "        vertical-align: middle;\n",
       "    }\n",
       "\n",
       "    .dataframe tbody tr th {\n",
       "        vertical-align: top;\n",
       "    }\n",
       "\n",
       "    .dataframe thead th {\n",
       "        text-align: right;\n",
       "    }\n",
       "</style>\n",
       "<table border=\"1\" class=\"dataframe\">\n",
       "  <thead>\n",
       "    <tr style=\"text-align: right;\">\n",
       "      <th></th>\n",
       "      <th>count</th>\n",
       "      <th>mean</th>\n",
       "      <th>std</th>\n",
       "      <th>min</th>\n",
       "      <th>25%</th>\n",
       "      <th>50%</th>\n",
       "      <th>75%</th>\n",
       "      <th>max</th>\n",
       "      <th>median</th>\n",
       "    </tr>\n",
       "  </thead>\n",
       "  <tbody>\n",
       "    <tr>\n",
       "      <th>Average Amount/transaction/day</th>\n",
       "      <td>3075.0</td>\n",
       "      <td>515.026556</td>\n",
       "      <td>291.906978</td>\n",
       "      <td>4.011527</td>\n",
       "      <td>269.788047</td>\n",
       "      <td>502.549575</td>\n",
       "      <td>765.272803</td>\n",
       "      <td>2000.0</td>\n",
       "      <td>502.549575</td>\n",
       "    </tr>\n",
       "    <tr>\n",
       "      <th>Transaction_amount</th>\n",
       "      <td>3075.0</td>\n",
       "      <td>9876.399210</td>\n",
       "      <td>10135.331016</td>\n",
       "      <td>0.000000</td>\n",
       "      <td>2408.781147</td>\n",
       "      <td>6698.891856</td>\n",
       "      <td>14422.568935</td>\n",
       "      <td>108000.0</td>\n",
       "      <td>6698.891856</td>\n",
       "    </tr>\n",
       "    <tr>\n",
       "      <th>Total Number of declines/day</th>\n",
       "      <td>3075.0</td>\n",
       "      <td>0.957398</td>\n",
       "      <td>2.192391</td>\n",
       "      <td>0.000000</td>\n",
       "      <td>0.000000</td>\n",
       "      <td>0.000000</td>\n",
       "      <td>0.000000</td>\n",
       "      <td>20.0</td>\n",
       "      <td>0.000000</td>\n",
       "    </tr>\n",
       "    <tr>\n",
       "      <th>Daily_chargeback_avg_amt</th>\n",
       "      <td>3075.0</td>\n",
       "      <td>55.737561</td>\n",
       "      <td>206.634779</td>\n",
       "      <td>0.000000</td>\n",
       "      <td>0.000000</td>\n",
       "      <td>0.000000</td>\n",
       "      <td>0.000000</td>\n",
       "      <td>998.0</td>\n",
       "      <td>0.000000</td>\n",
       "    </tr>\n",
       "    <tr>\n",
       "      <th>6_month_avg_chbk_amt</th>\n",
       "      <td>3075.0</td>\n",
       "      <td>40.022407</td>\n",
       "      <td>155.968840</td>\n",
       "      <td>0.000000</td>\n",
       "      <td>0.000000</td>\n",
       "      <td>0.000000</td>\n",
       "      <td>0.000000</td>\n",
       "      <td>998.0</td>\n",
       "      <td>0.000000</td>\n",
       "    </tr>\n",
       "    <tr>\n",
       "      <th>6-month_chbk_freq</th>\n",
       "      <td>3075.0</td>\n",
       "      <td>0.391870</td>\n",
       "      <td>1.548479</td>\n",
       "      <td>0.000000</td>\n",
       "      <td>0.000000</td>\n",
       "      <td>0.000000</td>\n",
       "      <td>0.000000</td>\n",
       "      <td>9.0</td>\n",
       "      <td>0.000000</td>\n",
       "    </tr>\n",
       "  </tbody>\n",
       "</table>\n",
       "</div>"
      ],
      "text/plain": [
       "                                 count         mean           std       min  \\\n",
       "Average Amount/transaction/day  3075.0   515.026556    291.906978  4.011527   \n",
       "Transaction_amount              3075.0  9876.399210  10135.331016  0.000000   \n",
       "Total Number of declines/day    3075.0     0.957398      2.192391  0.000000   \n",
       "Daily_chargeback_avg_amt        3075.0    55.737561    206.634779  0.000000   \n",
       "6_month_avg_chbk_amt            3075.0    40.022407    155.968840  0.000000   \n",
       "6-month_chbk_freq               3075.0     0.391870      1.548479  0.000000   \n",
       "\n",
       "                                        25%          50%           75%  \\\n",
       "Average Amount/transaction/day   269.788047   502.549575    765.272803   \n",
       "Transaction_amount              2408.781147  6698.891856  14422.568935   \n",
       "Total Number of declines/day       0.000000     0.000000      0.000000   \n",
       "Daily_chargeback_avg_amt           0.000000     0.000000      0.000000   \n",
       "6_month_avg_chbk_amt               0.000000     0.000000      0.000000   \n",
       "6-month_chbk_freq                  0.000000     0.000000      0.000000   \n",
       "\n",
       "                                     max       median  \n",
       "Average Amount/transaction/day    2000.0   502.549575  \n",
       "Transaction_amount              108000.0  6698.891856  \n",
       "Total Number of declines/day        20.0     0.000000  \n",
       "Daily_chargeback_avg_amt           998.0     0.000000  \n",
       "6_month_avg_chbk_amt               998.0     0.000000  \n",
       "6-month_chbk_freq                    9.0     0.000000  "
      ]
     },
     "execution_count": 3,
     "metadata": {},
     "output_type": "execute_result"
    }
   ],
   "source": [
    "# Obtener num de elementos, media, desv típica, max, min y cuartiles\n",
    "# Quitamos el ID y fechas para mostrar las estadisticas numéricas\n",
    "creditCard_df2 = pd.DataFrame(creditCard_df[creditCard_df.columns[2:]])\n",
    "\n",
    "stats_df = creditCard_df2.describe()\n",
    "# Obtener y añadir la mediana\n",
    "median = pd.DataFrame(creditCard_df2.median())\n",
    "median = median.transpose()\n",
    "median.rename(index = {0:'median'},inplace = True)\n",
    "stats_df = stats_df.append(median).transpose() \n",
    "stats_df"
   ]
  },
  {
   "cell_type": "markdown",
   "metadata": {},
   "source": [
    "### 2.2 Variables categóricas"
   ]
  },
  {
   "cell_type": "code",
   "execution_count": 4,
   "metadata": {},
   "outputs": [
    {
     "data": {
      "text/html": [
       "<div>\n",
       "<style scoped>\n",
       "    .dataframe tbody tr th:only-of-type {\n",
       "        vertical-align: middle;\n",
       "    }\n",
       "\n",
       "    .dataframe tbody tr th {\n",
       "        vertical-align: top;\n",
       "    }\n",
       "\n",
       "    .dataframe thead th {\n",
       "        text-align: right;\n",
       "    }\n",
       "</style>\n",
       "<table border=\"1\" class=\"dataframe\">\n",
       "  <thead>\n",
       "    <tr style=\"text-align: right;\">\n",
       "      <th></th>\n",
       "      <th>count</th>\n",
       "      <th>unique</th>\n",
       "      <th>top</th>\n",
       "      <th>freq</th>\n",
       "    </tr>\n",
       "  </thead>\n",
       "  <tbody>\n",
       "    <tr>\n",
       "      <th>Is declined</th>\n",
       "      <td>3075</td>\n",
       "      <td>2</td>\n",
       "      <td>N</td>\n",
       "      <td>3018</td>\n",
       "    </tr>\n",
       "    <tr>\n",
       "      <th>isForeignTransaction</th>\n",
       "      <td>3075</td>\n",
       "      <td>2</td>\n",
       "      <td>N</td>\n",
       "      <td>2369</td>\n",
       "    </tr>\n",
       "    <tr>\n",
       "      <th>isHighRiskCountry</th>\n",
       "      <td>3075</td>\n",
       "      <td>2</td>\n",
       "      <td>N</td>\n",
       "      <td>2870</td>\n",
       "    </tr>\n",
       "    <tr>\n",
       "      <th>isFradulent</th>\n",
       "      <td>3075</td>\n",
       "      <td>2</td>\n",
       "      <td>N</td>\n",
       "      <td>2627</td>\n",
       "    </tr>\n",
       "  </tbody>\n",
       "</table>\n",
       "</div>"
      ],
      "text/plain": [
       "                     count unique top  freq\n",
       "Is declined           3075      2   N  3018\n",
       "isForeignTransaction  3075      2   N  2369\n",
       "isHighRiskCountry     3075      2   N  2870\n",
       "isFradulent           3075      2   N  2627"
      ]
     },
     "execution_count": 4,
     "metadata": {},
     "output_type": "execute_result"
    }
   ],
   "source": [
    "creditCard_df.describe(include='object').T"
   ]
  },
  {
   "cell_type": "code",
   "execution_count": 5,
   "metadata": {},
   "outputs": [
    {
     "name": "stdout",
     "output_type": "stream",
     "text": [
      "N    3018\n",
      "Y      57\n",
      "Name: Is declined, dtype: int64\n",
      "--------------------\n",
      "N    2369\n",
      "Y     706\n",
      "Name: isForeignTransaction, dtype: int64\n",
      "--------------------\n",
      "N    2870\n",
      "Y     205\n",
      "Name: isHighRiskCountry, dtype: int64\n",
      "--------------------\n",
      "N    2627\n",
      "Y     448\n",
      "Name: isFradulent, dtype: int64\n",
      "--------------------\n"
     ]
    }
   ],
   "source": [
    "for column in creditCard_df.select_dtypes(include='object').columns:\n",
    "    print(creditCard_df[column].value_counts())\n",
    "    print('-'*20)"
   ]
  },
  {
   "cell_type": "markdown",
   "metadata": {},
   "source": [
    "### 2.3 Matriz de correlaciones y análisis de los resultados"
   ]
  },
  {
   "cell_type": "code",
   "execution_count": 6,
   "metadata": {},
   "outputs": [
    {
     "data": {
      "text/html": [
       "<div>\n",
       "<style scoped>\n",
       "    .dataframe tbody tr th:only-of-type {\n",
       "        vertical-align: middle;\n",
       "    }\n",
       "\n",
       "    .dataframe tbody tr th {\n",
       "        vertical-align: top;\n",
       "    }\n",
       "\n",
       "    .dataframe thead th {\n",
       "        text-align: right;\n",
       "    }\n",
       "</style>\n",
       "<table border=\"1\" class=\"dataframe\">\n",
       "  <thead>\n",
       "    <tr style=\"text-align: right;\">\n",
       "      <th></th>\n",
       "      <th>Average Amount/transaction/day</th>\n",
       "      <th>Transaction_amount</th>\n",
       "      <th>Total Number of declines/day</th>\n",
       "      <th>Daily_chargeback_avg_amt</th>\n",
       "      <th>6_month_avg_chbk_amt</th>\n",
       "      <th>6-month_chbk_freq</th>\n",
       "    </tr>\n",
       "  </thead>\n",
       "  <tbody>\n",
       "    <tr>\n",
       "      <th>Average Amount/transaction/day</th>\n",
       "      <td>1.000000</td>\n",
       "      <td>0.587111</td>\n",
       "      <td>-0.009682</td>\n",
       "      <td>0.060429</td>\n",
       "      <td>0.060284</td>\n",
       "      <td>0.071849</td>\n",
       "    </tr>\n",
       "    <tr>\n",
       "      <th>Transaction_amount</th>\n",
       "      <td>0.587111</td>\n",
       "      <td>1.000000</td>\n",
       "      <td>0.259309</td>\n",
       "      <td>0.252298</td>\n",
       "      <td>0.259663</td>\n",
       "      <td>0.297623</td>\n",
       "    </tr>\n",
       "    <tr>\n",
       "      <th>Total Number of declines/day</th>\n",
       "      <td>-0.009682</td>\n",
       "      <td>0.259309</td>\n",
       "      <td>1.000000</td>\n",
       "      <td>0.094834</td>\n",
       "      <td>0.081138</td>\n",
       "      <td>0.085028</td>\n",
       "    </tr>\n",
       "    <tr>\n",
       "      <th>Daily_chargeback_avg_amt</th>\n",
       "      <td>0.060429</td>\n",
       "      <td>0.252298</td>\n",
       "      <td>0.094834</td>\n",
       "      <td>1.000000</td>\n",
       "      <td>0.953663</td>\n",
       "      <td>0.884611</td>\n",
       "    </tr>\n",
       "    <tr>\n",
       "      <th>6_month_avg_chbk_amt</th>\n",
       "      <td>0.060284</td>\n",
       "      <td>0.259663</td>\n",
       "      <td>0.081138</td>\n",
       "      <td>0.953663</td>\n",
       "      <td>1.000000</td>\n",
       "      <td>0.851339</td>\n",
       "    </tr>\n",
       "    <tr>\n",
       "      <th>6-month_chbk_freq</th>\n",
       "      <td>0.071849</td>\n",
       "      <td>0.297623</td>\n",
       "      <td>0.085028</td>\n",
       "      <td>0.884611</td>\n",
       "      <td>0.851339</td>\n",
       "      <td>1.000000</td>\n",
       "    </tr>\n",
       "  </tbody>\n",
       "</table>\n",
       "</div>"
      ],
      "text/plain": [
       "                                Average Amount/transaction/day  \\\n",
       "Average Amount/transaction/day                        1.000000   \n",
       "Transaction_amount                                    0.587111   \n",
       "Total Number of declines/day                         -0.009682   \n",
       "Daily_chargeback_avg_amt                              0.060429   \n",
       "6_month_avg_chbk_amt                                  0.060284   \n",
       "6-month_chbk_freq                                     0.071849   \n",
       "\n",
       "                                Transaction_amount  \\\n",
       "Average Amount/transaction/day            0.587111   \n",
       "Transaction_amount                        1.000000   \n",
       "Total Number of declines/day              0.259309   \n",
       "Daily_chargeback_avg_amt                  0.252298   \n",
       "6_month_avg_chbk_amt                      0.259663   \n",
       "6-month_chbk_freq                         0.297623   \n",
       "\n",
       "                                Total Number of declines/day  \\\n",
       "Average Amount/transaction/day                     -0.009682   \n",
       "Transaction_amount                                  0.259309   \n",
       "Total Number of declines/day                        1.000000   \n",
       "Daily_chargeback_avg_amt                            0.094834   \n",
       "6_month_avg_chbk_amt                                0.081138   \n",
       "6-month_chbk_freq                                   0.085028   \n",
       "\n",
       "                                Daily_chargeback_avg_amt  \\\n",
       "Average Amount/transaction/day                  0.060429   \n",
       "Transaction_amount                              0.252298   \n",
       "Total Number of declines/day                    0.094834   \n",
       "Daily_chargeback_avg_amt                        1.000000   \n",
       "6_month_avg_chbk_amt                            0.953663   \n",
       "6-month_chbk_freq                               0.884611   \n",
       "\n",
       "                                6_month_avg_chbk_amt  6-month_chbk_freq  \n",
       "Average Amount/transaction/day              0.060284           0.071849  \n",
       "Transaction_amount                          0.259663           0.297623  \n",
       "Total Number of declines/day                0.081138           0.085028  \n",
       "Daily_chargeback_avg_amt                    0.953663           0.884611  \n",
       "6_month_avg_chbk_amt                        1.000000           0.851339  \n",
       "6-month_chbk_freq                           0.851339           1.000000  "
      ]
     },
     "execution_count": 6,
     "metadata": {},
     "output_type": "execute_result"
    }
   ],
   "source": [
    "# El ID y la fecha no los incluyo\n",
    "var_num = creditCard_df2.select_dtypes(include = ['int64','float64']).reset_index(drop = True)\n",
    "corr_mat = var_num.corr()\n",
    "corr_mat"
   ]
  },
  {
   "cell_type": "markdown",
   "metadata": {},
   "source": [
    "## 3. Tratamiento de missing"
   ]
  },
  {
   "cell_type": "code",
   "execution_count": 7,
   "metadata": {},
   "outputs": [
    {
     "name": "stdout",
     "output_type": "stream",
     "text": [
      "Columna: Transaction date, N of NaN: 3075, Index in Dataframe: 1\n"
     ]
    }
   ],
   "source": [
    "# Lista con los missing de cada columna\n",
    "missing = creditCard_df.isna().sum()\n",
    "# Creamos dataframe con columnas y missing values\n",
    "missing_df = pd.DataFrame([creditCard_df.columns,missing]).transpose()\n",
    "# Nos quedamos solo con  las columnas que tengan missing\n",
    "for index in missing_df.index:\n",
    "    if missing_df.iloc[index,1] > 0:\n",
    "        print('Columna: {}, N of NaN: {}, Index in Dataframe: {}'.format(missing_df.iloc[index,0],missing_df.iloc[index,1],index))"
   ]
  },
  {
   "cell_type": "code",
   "execution_count": 8,
   "metadata": {},
   "outputs": [
    {
     "data": {
      "image/png": "[encoded data removed]",
      "text/plain": [
       "<Figure size 720x360 with 1 Axes>"
      ]
     },
     "metadata": {
      "needs_background": "light"
     },
     "output_type": "display_data"
    }
   ],
   "source": [
    "missingno.matrix(creditCard_df,sparkline=False, figsize=(10,5), fontsize=12, color=(0.27, 0.52, 1.0));"
   ]
  },
  {
   "cell_type": "markdown",
   "metadata": {},
   "source": [
    "La unica variable con missing values es 'Transaction date', de la cual faltan todos los valores. Por tanto se eliminará esta columna del DataFrame"
   ]
  },
  {
   "cell_type": "code",
   "execution_count": 9,
   "metadata": {},
   "outputs": [
    {
     "data": {
      "text/html": [
       "<div>\n",
       "<style scoped>\n",
       "    .dataframe tbody tr th:only-of-type {\n",
       "        vertical-align: middle;\n",
       "    }\n",
       "\n",
       "    .dataframe tbody tr th {\n",
       "        vertical-align: top;\n",
       "    }\n",
       "\n",
       "    .dataframe thead th {\n",
       "        text-align: right;\n",
       "    }\n",
       "</style>\n",
       "<table border=\"1\" class=\"dataframe\">\n",
       "  <thead>\n",
       "    <tr style=\"text-align: right;\">\n",
       "      <th></th>\n",
       "      <th>Merchant_id</th>\n",
       "      <th>Average Amount/transaction/day</th>\n",
       "      <th>Transaction_amount</th>\n",
       "      <th>Is declined</th>\n",
       "      <th>Total Number of declines/day</th>\n",
       "      <th>isForeignTransaction</th>\n",
       "      <th>isHighRiskCountry</th>\n",
       "      <th>Daily_chargeback_avg_amt</th>\n",
       "      <th>6_month_avg_chbk_amt</th>\n",
       "      <th>6-month_chbk_freq</th>\n",
       "      <th>isFradulent</th>\n",
       "    </tr>\n",
       "  </thead>\n",
       "  <tbody>\n",
       "    <tr>\n",
       "      <th>0</th>\n",
       "      <td>3160040998</td>\n",
       "      <td>100.0</td>\n",
       "      <td>3000.0</td>\n",
       "      <td>N</td>\n",
       "      <td>5</td>\n",
       "      <td>Y</td>\n",
       "      <td>Y</td>\n",
       "      <td>0</td>\n",
       "      <td>0.0</td>\n",
       "      <td>0</td>\n",
       "      <td>Y</td>\n",
       "    </tr>\n",
       "    <tr>\n",
       "      <th>1</th>\n",
       "      <td>3160040998</td>\n",
       "      <td>100.0</td>\n",
       "      <td>4300.0</td>\n",
       "      <td>N</td>\n",
       "      <td>5</td>\n",
       "      <td>Y</td>\n",
       "      <td>Y</td>\n",
       "      <td>0</td>\n",
       "      <td>0.0</td>\n",
       "      <td>0</td>\n",
       "      <td>Y</td>\n",
       "    </tr>\n",
       "    <tr>\n",
       "      <th>2</th>\n",
       "      <td>3160041896</td>\n",
       "      <td>185.5</td>\n",
       "      <td>4823.0</td>\n",
       "      <td>Y</td>\n",
       "      <td>5</td>\n",
       "      <td>N</td>\n",
       "      <td>N</td>\n",
       "      <td>0</td>\n",
       "      <td>0.0</td>\n",
       "      <td>0</td>\n",
       "      <td>Y</td>\n",
       "    </tr>\n",
       "    <tr>\n",
       "      <th>3</th>\n",
       "      <td>3160141996</td>\n",
       "      <td>185.5</td>\n",
       "      <td>5008.5</td>\n",
       "      <td>Y</td>\n",
       "      <td>8</td>\n",
       "      <td>N</td>\n",
       "      <td>N</td>\n",
       "      <td>0</td>\n",
       "      <td>0.0</td>\n",
       "      <td>0</td>\n",
       "      <td>Y</td>\n",
       "    </tr>\n",
       "    <tr>\n",
       "      <th>4</th>\n",
       "      <td>3160241992</td>\n",
       "      <td>500.0</td>\n",
       "      <td>26000.0</td>\n",
       "      <td>N</td>\n",
       "      <td>0</td>\n",
       "      <td>Y</td>\n",
       "      <td>Y</td>\n",
       "      <td>800</td>\n",
       "      <td>677.2</td>\n",
       "      <td>6</td>\n",
       "      <td>Y</td>\n",
       "    </tr>\n",
       "  </tbody>\n",
       "</table>\n",
       "</div>"
      ],
      "text/plain": [
       "   Merchant_id  Average Amount/transaction/day  Transaction_amount  \\\n",
       "0   3160040998                           100.0              3000.0   \n",
       "1   3160040998                           100.0              4300.0   \n",
       "2   3160041896                           185.5              4823.0   \n",
       "3   3160141996                           185.5              5008.5   \n",
       "4   3160241992                           500.0             26000.0   \n",
       "\n",
       "  Is declined  Total Number of declines/day isForeignTransaction  \\\n",
       "0           N                             5                    Y   \n",
       "1           N                             5                    Y   \n",
       "2           Y                             5                    N   \n",
       "3           Y                             8                    N   \n",
       "4           N                             0                    Y   \n",
       "\n",
       "  isHighRiskCountry  Daily_chargeback_avg_amt  6_month_avg_chbk_amt  \\\n",
       "0                 Y                         0                   0.0   \n",
       "1                 Y                         0                   0.0   \n",
       "2                 N                         0                   0.0   \n",
       "3                 N                         0                   0.0   \n",
       "4                 Y                       800                 677.2   \n",
       "\n",
       "   6-month_chbk_freq isFradulent  \n",
       "0                  0           Y  \n",
       "1                  0           Y  \n",
       "2                  0           Y  \n",
       "3                  0           Y  \n",
       "4                  6           Y  "
      ]
     },
     "execution_count": 9,
     "metadata": {},
     "output_type": "execute_result"
    }
   ],
   "source": [
    "# Eliminamos la columna del dataframe original\n",
    "creditCard_df.drop('Transaction date', axis = 1, inplace = True)\n",
    "# Mostramos el dataframe resultante\n",
    "creditCard_df.head()"
   ]
  },
  {
   "cell_type": "markdown",
   "metadata": {},
   "source": [
    "## 4. Aplicación de técnicas de detección de anomalías: Isolation Forest"
   ]
  },
  {
   "cell_type": "code",
   "execution_count": 10,
   "metadata": {},
   "outputs": [],
   "source": [
    "# Función para imprimir la matriz de confusión\n",
    "def plot_confusion_matrix(cm, classes,\n",
    "                          normalize=False,\n",
    "                          title='Confusion matrix',\n",
    "                          cmap=plt.cm.Blues):\n",
    "    \"\"\"\n",
    "    This function prints and plots the confusion matrix.\n",
    "    Normalization can be applied by setting `normalize=True`.\n",
    "    \"\"\"\n",
    "    '''\n",
    "    if normalize:\n",
    "        cm = cm.astype('float') / cm.sum(axis=1)[:, np.newaxis]\n",
    "        print(\"Normalized confusion matrix\")\n",
    "    else:\n",
    "        print('Confusion matrix, without normalization')\n",
    "\n",
    "    #print(cm)\n",
    "    '''\n",
    "\n",
    "    plt.imshow(cm, interpolation='nearest', cmap=cmap)\n",
    "    plt.title(title)\n",
    "    plt.colorbar()\n",
    "    tick_marks = np.arange(len(classes))\n",
    "    plt.xticks(tick_marks, classes, rotation=45)\n",
    "    plt.yticks(tick_marks, classes)\n",
    "\n",
    "    fmt = '.2f' if normalize else 'd'\n",
    "    thresh = cm.max() / 2.\n",
    "    for i, j in itertools.product(range(cm.shape[0]), range(cm.shape[1])):\n",
    "        plt.text(j, i, format(cm[i, j], fmt),\n",
    "                 horizontalalignment=\"center\",\n",
    "                 color=\"white\" if cm[i, j] > thresh else \"black\")\n",
    "\n",
    "    plt.tight_layout()\n",
    "    plt.ylabel('True label')\n",
    "    plt.xlabel('Predicted label')"
   ]
  },
  {
   "cell_type": "markdown",
   "metadata": {},
   "source": [
    "En primer lugar reemplazamos las variables Y y N por 1 y 0 respectivamente"
   ]
  },
  {
   "cell_type": "code",
   "execution_count": 11,
   "metadata": {},
   "outputs": [
    {
     "data": {
      "text/html": [
       "<div>\n",
       "<style scoped>\n",
       "    .dataframe tbody tr th:only-of-type {\n",
       "        vertical-align: middle;\n",
       "    }\n",
       "\n",
       "    .dataframe tbody tr th {\n",
       "        vertical-align: top;\n",
       "    }\n",
       "\n",
       "    .dataframe thead th {\n",
       "        text-align: right;\n",
       "    }\n",
       "</style>\n",
       "<table border=\"1\" class=\"dataframe\">\n",
       "  <thead>\n",
       "    <tr style=\"text-align: right;\">\n",
       "      <th></th>\n",
       "      <th>Merchant_id</th>\n",
       "      <th>Average Amount/transaction/day</th>\n",
       "      <th>Transaction_amount</th>\n",
       "      <th>Is declined</th>\n",
       "      <th>Total Number of declines/day</th>\n",
       "      <th>isForeignTransaction</th>\n",
       "      <th>isHighRiskCountry</th>\n",
       "      <th>Daily_chargeback_avg_amt</th>\n",
       "      <th>6_month_avg_chbk_amt</th>\n",
       "      <th>6-month_chbk_freq</th>\n",
       "      <th>isFradulent</th>\n",
       "    </tr>\n",
       "  </thead>\n",
       "  <tbody>\n",
       "    <tr>\n",
       "      <th>0</th>\n",
       "      <td>3160040998</td>\n",
       "      <td>100.0</td>\n",
       "      <td>3000.0</td>\n",
       "      <td>0</td>\n",
       "      <td>5</td>\n",
       "      <td>1</td>\n",
       "      <td>1</td>\n",
       "      <td>0</td>\n",
       "      <td>0.0</td>\n",
       "      <td>0</td>\n",
       "      <td>1</td>\n",
       "    </tr>\n",
       "    <tr>\n",
       "      <th>1</th>\n",
       "      <td>3160040998</td>\n",
       "      <td>100.0</td>\n",
       "      <td>4300.0</td>\n",
       "      <td>0</td>\n",
       "      <td>5</td>\n",
       "      <td>1</td>\n",
       "      <td>1</td>\n",
       "      <td>0</td>\n",
       "      <td>0.0</td>\n",
       "      <td>0</td>\n",
       "      <td>1</td>\n",
       "    </tr>\n",
       "    <tr>\n",
       "      <th>2</th>\n",
       "      <td>3160041896</td>\n",
       "      <td>185.5</td>\n",
       "      <td>4823.0</td>\n",
       "      <td>1</td>\n",
       "      <td>5</td>\n",
       "      <td>0</td>\n",
       "      <td>0</td>\n",
       "      <td>0</td>\n",
       "      <td>0.0</td>\n",
       "      <td>0</td>\n",
       "      <td>1</td>\n",
       "    </tr>\n",
       "    <tr>\n",
       "      <th>3</th>\n",
       "      <td>3160141996</td>\n",
       "      <td>185.5</td>\n",
       "      <td>5008.5</td>\n",
       "      <td>1</td>\n",
       "      <td>8</td>\n",
       "      <td>0</td>\n",
       "      <td>0</td>\n",
       "      <td>0</td>\n",
       "      <td>0.0</td>\n",
       "      <td>0</td>\n",
       "      <td>1</td>\n",
       "    </tr>\n",
       "    <tr>\n",
       "      <th>4</th>\n",
       "      <td>3160241992</td>\n",
       "      <td>500.0</td>\n",
       "      <td>26000.0</td>\n",
       "      <td>0</td>\n",
       "      <td>0</td>\n",
       "      <td>1</td>\n",
       "      <td>1</td>\n",
       "      <td>800</td>\n",
       "      <td>677.2</td>\n",
       "      <td>6</td>\n",
       "      <td>1</td>\n",
       "    </tr>\n",
       "  </tbody>\n",
       "</table>\n",
       "</div>"
      ],
      "text/plain": [
       "   Merchant_id  Average Amount/transaction/day  Transaction_amount  \\\n",
       "0   3160040998                           100.0              3000.0   \n",
       "1   3160040998                           100.0              4300.0   \n",
       "2   3160041896                           185.5              4823.0   \n",
       "3   3160141996                           185.5              5008.5   \n",
       "4   3160241992                           500.0             26000.0   \n",
       "\n",
       "   Is declined  Total Number of declines/day  isForeignTransaction  \\\n",
       "0            0                             5                     1   \n",
       "1            0                             5                     1   \n",
       "2            1                             5                     0   \n",
       "3            1                             8                     0   \n",
       "4            0                             0                     1   \n",
       "\n",
       "   isHighRiskCountry  Daily_chargeback_avg_amt  6_month_avg_chbk_amt  \\\n",
       "0                  1                         0                   0.0   \n",
       "1                  1                         0                   0.0   \n",
       "2                  0                         0                   0.0   \n",
       "3                  0                         0                   0.0   \n",
       "4                  1                       800                 677.2   \n",
       "\n",
       "   6-month_chbk_freq  isFradulent  \n",
       "0                  0            1  \n",
       "1                  0            1  \n",
       "2                  0            1  \n",
       "3                  0            1  \n",
       "4                  6            1  "
      ]
     },
     "execution_count": 11,
     "metadata": {},
     "output_type": "execute_result"
    }
   ],
   "source": [
    "# Change Y and N values to 0 and 1 values\n",
    "creditCard_df.replace(to_replace = ['Y','N'],value =[1,0],inplace = True)\n",
    "creditCard_df.head()"
   ]
  },
  {
   "cell_type": "markdown",
   "metadata": {},
   "source": [
    "Separamos el dataset en subconjuntos de entrenamiento y test"
   ]
  },
  {
   "cell_type": "code",
   "execution_count": 12,
   "metadata": {},
   "outputs": [],
   "source": [
    "cols = list(creditCard_df.columns[1:len(creditCard_df.columns)-1]) # Quitamos el id y la variable y dependiente \n",
    "X = creditCard_df[cols].values\n",
    "Y = creditCard_df['isFradulent']\n",
    "# Division of dataset\n",
    "X_train, X_test, Y_train, Y_test = train_test_split(X, Y, test_size = 0.2, random_state = 3)"
   ]
  },
  {
   "cell_type": "markdown",
   "metadata": {},
   "source": [
    "A continuación se procede a crear y  entrenar el modelo:"
   ]
  },
  {
   "cell_type": "code",
   "execution_count": 19,
   "metadata": {},
   "outputs": [
    {
     "data": {
      "text/plain": [
       "IsolationForest(max_features=1)"
      ]
     },
     "execution_count": 19,
     "metadata": {},
     "output_type": "execute_result"
    }
   ],
   "source": [
    "# Creation of the model\n",
    "if_model = IsolationForest(n_estimators = 100, max_samples = 'auto', contamination = 'auto', max_features = 1)\n",
    "# Training of the model\n",
    "if_model.fit(X_train)"
   ]
  },
  {
   "cell_type": "markdown",
   "metadata": {},
   "source": [
    "Realizamos la predicción con el modelo entrenado"
   ]
  },
  {
   "cell_type": "code",
   "execution_count": 20,
   "metadata": {},
   "outputs": [],
   "source": [
    "yhat_if = if_model.predict(X_test)"
   ]
  },
  {
   "cell_type": "markdown",
   "metadata": {},
   "source": [
    "Como este modelo retorna el valor -1 para los outliers y valor 1 para los inliers es necesario convertir estos valores a 0 (inlier) y 1 (outlier), que es de la forma que está expresado en Y_test. Por tanto realizamos la conversión:"
   ]
  },
  {
   "cell_type": "code",
   "execution_count": 21,
   "metadata": {},
   "outputs": [],
   "source": [
    "Yhat_if = [0 if prediction == 1 else 1 for prediction in yhat_if ]"
   ]
  },
  {
   "cell_type": "markdown",
   "metadata": {},
   "source": [
    "Puesto que teniamos un dataset etiquetado con las muestras fraudulentas, podemos evaluar el resultado de la predicción utilizando la matriz de confusion. A continuación se obtiene la matriz de confusión y las métricas de exactitud, sensibilidad y precision. En la detección de anomalías es interesante la sensibilidad pues proporciona una idea del porcentaje de las anomalias que se estan detectando correctamente. En cuanto a la precision tambien es interesante pues nos da una idea de cuantas de las muestras clasificadas como fraudulentas lo son realmente."
   ]
  },
  {
   "cell_type": "code",
   "execution_count": 22,
   "metadata": {},
   "outputs": [
    {
     "data": {
      "image/png": "[encoded data removed]",
      "text/plain": [
       "<Figure size 432x288 with 2 Axes>"
      ]
     },
     "metadata": {
      "needs_background": "light"
     },
     "output_type": "display_data"
    }
   ],
   "source": [
    "# Creamos e imprimimos la matriz de confusión\n",
    "conf_matrix_if = confusion_matrix(Yhat_if, Y_test,labels = [1,0]) # Coloco este orden de labels para que los fraudulentos queden como TP y los no fraudulentos como TN (ya que lo que se quiere ver es si son fraudulentos o no) \n",
    "plot_confusion_matrix(conf_matrix_if, classes=['Fraudulent','Not Fraudulent'],normalize= False,  title='Confusion matrix for Anomaly Detection')"
   ]
  },
  {
   "cell_type": "markdown",
   "metadata": {},
   "source": [
    "En la matriz de confusión creada vemos como el algoritmo clasifica correctamente 502 muestras como no fraudulentas y 72 como fraudulentas. En cuanto a los errores, el algoritmo detecta erroneamente 31 muestras como fraudulentas sin serlo, y sin embargo deja sin detectar 10 muestras que eran fraudulentas."
   ]
  },
  {
   "cell_type": "code",
   "execution_count": 23,
   "metadata": {},
   "outputs": [],
   "source": [
    "def calculate_metrics(real, predicted):\n",
    "    print(\"Accuracy: {:.4f}\".format(accuracy_score(real, predicted)))\n",
    "    print(\"Precision: {:.4f}\".format(precision_score(real, predicted,average = 'weighted')))\n",
    "    # La sensibilidad es equivalente al recall\n",
    "    print(\"Sensibilidad: {:.4f}\".format(recall_score(real, predicted,average = 'weighted')))\n",
    "    print(\"F1: {:.4f}\".format(f1_score(real, predicted,average = 'weighted',labels=np.unique(predicted))))"
   ]
  },
  {
   "cell_type": "code",
   "execution_count": 24,
   "metadata": {
    "scrolled": true
   },
   "outputs": [
    {
     "name": "stdout",
     "output_type": "stream",
     "text": [
      "Accuracy: 0.9333\n",
      "Precision: 0.9312\n",
      "Sensibilidad: 0.9333\n",
      "F1: 0.9302\n"
     ]
    }
   ],
   "source": [
    "# Calculamos metricas\n",
    "calculate_metrics(Y_test,Yhat_if)"
   ]
  },
  {
   "cell_type": "markdown",
   "metadata": {},
   "source": [
    "Puede verse como se ha obtenido buenos resultados utilizando este algoritmo de detección de anomalias. El buen resultado en la sensibilidad nos muestra como el modelo funciona bien para detectar gran porcentaje de las anomalías."
   ]
  },
  {
   "cell_type": "markdown",
   "metadata": {},
   "source": [
    "## 5. Aplicación de técnicas de agrupamiento: K-means"
   ]
  },
  {
   "cell_type": "markdown",
   "metadata": {},
   "source": [
    "En primer lugar, antes de proceder a la utilización de K-means se procederá a normalizar el dataset. Para ello se utilizará MinMaxScaler que normaliza las variables entre 0 y 1."
   ]
  },
  {
   "cell_type": "code",
   "execution_count": 25,
   "metadata": {},
   "outputs": [],
   "source": [
    "scaler = MinMaxScaler()\n",
    "X_scaled = scaler.fit_transform(X)"
   ]
  },
  {
   "cell_type": "markdown",
   "metadata": {},
   "source": [
    "En segundo lugar se dividirá los datos en dos conjuntos para realizar el proceso por separado y poder comparar después los resultados entre ellos"
   ]
  },
  {
   "cell_type": "code",
   "execution_count": 26,
   "metadata": {},
   "outputs": [],
   "source": [
    "X1,X2 = train_test_split(X_scaled, test_size = 0.50)"
   ]
  },
  {
   "cell_type": "markdown",
   "metadata": {},
   "source": [
    "En tercer lugar, para determinar el numero de cluster que arroja mejores resultados se va a proceder a ejecutar el algoritmo k-means para diferentes numero de clusters. Para evaluarlo se utilizará el Elbow method, el cual da una idea del número de clusters adecuado en base a la suma de las distancias al cuadrado entre los puntos y sus centroides asignados (SEE). Se aplicará para cada uno de los dos subconjuntos hallados en el apartado anterior."
   ]
  },
  {
   "cell_type": "markdown",
   "metadata": {},
   "source": [
    "Subconjunto 1:"
   ]
  },
  {
   "cell_type": "code",
   "execution_count": 27,
   "metadata": {},
   "outputs": [
    {
     "data": {
      "image/png": "[encoded data removed]",
      "text/plain": [
       "<Figure size 432x432 with 1 Axes>"
      ]
     },
     "metadata": {
      "needs_background": "light"
     },
     "output_type": "display_data"
    }
   ],
   "source": [
    "n_clusters = range(1,11)\n",
    "k_model_sse = []\n",
    "for n in n_clusters:\n",
    "    km_model = KMeans(n_clusters = n)\n",
    "    # Train\n",
    "    km_model.fit(X1)\n",
    "    # Evaluation\n",
    "    k_model_sse.append(km_model.inertia_)\n",
    "\n",
    "# Plot elbow curve\n",
    "plt.figure(figsize=(6, 6))\n",
    "plt.plot(n_clusters, k_model_sse, '-o')\n",
    "plt.xlabel(r'Number of clusters')\n",
    "plt.ylabel('Sum of squared distance');"
   ]
  },
  {
   "cell_type": "markdown",
   "metadata": {},
   "source": [
    "Subconjunto 2:"
   ]
  },
  {
   "cell_type": "code",
   "execution_count": 28,
   "metadata": {},
   "outputs": [
    {
     "data": {
      "image/png": "[encoded data removed]",
      "text/plain": [
       "<Figure size 432x432 with 1 Axes>"
      ]
     },
     "metadata": {
      "needs_background": "light"
     },
     "output_type": "display_data"
    }
   ],
   "source": [
    "n_clusters = range(1,11)\n",
    "k_model_sse2 = []\n",
    "for n in n_clusters:\n",
    "    km_model = KMeans(n_clusters = n)\n",
    "    # Train\n",
    "    km_model.fit(X2)\n",
    "    # Evaluation\n",
    "    k_model_sse2.append(km_model.inertia_)\n",
    "\n",
    "# Plot elbow curve\n",
    "plt.figure(figsize=(6, 6))\n",
    "plt.plot(n_clusters, k_model_sse2, '-o')\n",
    "plt.xlabel(r'Number of clusters')\n",
    "plt.ylabel('Sum of squared distance');"
   ]
  },
  {
   "cell_type": "markdown",
   "metadata": {},
   "source": [
    "Nos quedamos con K = 2 para ambos casos"
   ]
  },
  {
   "cell_type": "code",
   "execution_count": 29,
   "metadata": {},
   "outputs": [
    {
     "data": {
      "text/plain": [
       "KMeans(n_clusters=2)"
      ]
     },
     "execution_count": 29,
     "metadata": {},
     "output_type": "execute_result"
    }
   ],
   "source": [
    "# Entrenamos ambos modelos\n",
    "# Model creation\n",
    "km_model1 = KMeans(n_clusters = 2)\n",
    "km_model2 = KMeans(n_clusters = 2)\n",
    "# Train\n",
    "km_model1.fit(X1)\n",
    "km_model2.fit(X2)"
   ]
  },
  {
   "cell_type": "markdown",
   "metadata": {},
   "source": [
    "A continuación se muestran los centroides:"
   ]
  },
  {
   "cell_type": "markdown",
   "metadata": {},
   "source": [
    "Subconjunto 1:"
   ]
  },
  {
   "cell_type": "code",
   "execution_count": 30,
   "metadata": {},
   "outputs": [
    {
     "name": "stdout",
     "output_type": "stream",
     "text": [
      "[[ 2.44960657e-01  7.58074477e-02  1.18043845e-02  3.50758853e-02\n",
      "  -1.41553436e-15  3.74700271e-16  4.99548845e-02  3.44504354e-02\n",
      "   3.81300356e-02]\n",
      " [ 2.68783547e-01  1.40649372e-01  3.98860399e-02  1.06552707e-01\n",
      "   1.00000000e+00  3.24786325e-01  8.12279830e-02  5.88219173e-02\n",
      "   7.40740741e-02]]\n"
     ]
    }
   ],
   "source": [
    "centroids1 = km_model1.cluster_centers_\n",
    "print(centroids1)"
   ]
  },
  {
   "cell_type": "markdown",
   "metadata": {},
   "source": [
    "Subconjunto 2:"
   ]
  },
  {
   "cell_type": "code",
   "execution_count": 31,
   "metadata": {},
   "outputs": [
    {
     "name": "stdout",
     "output_type": "stream",
     "text": [
      "[[ 2.44960657e-01  7.58074477e-02  1.18043845e-02  3.50758853e-02\n",
      "  -1.41553436e-15  3.74700271e-16  4.99548845e-02  3.44504354e-02\n",
      "   3.81300356e-02]\n",
      " [ 2.68783547e-01  1.40649372e-01  3.98860399e-02  1.06552707e-01\n",
      "   1.00000000e+00  3.24786325e-01  8.12279830e-02  5.88219173e-02\n",
      "   7.40740741e-02]]\n"
     ]
    }
   ],
   "source": [
    "centroids2 = km_model1.cluster_centers_\n",
    "print(centroids2)"
   ]
  },
  {
   "cell_type": "markdown",
   "metadata": {},
   "source": [
    "A continuación se muestra cuantos de los elementos han entrado en cada cluster:"
   ]
  },
  {
   "cell_type": "markdown",
   "metadata": {},
   "source": [
    "Subconjunto 1:"
   ]
  },
  {
   "cell_type": "code",
   "execution_count": 144,
   "metadata": {},
   "outputs": [],
   "source": [
    "labels1 = km_model1.labels_\n",
    "count_0 = 0\n",
    "count_1 = 0\n",
    "for i in range(0,len(labels1)):\n",
    "    if labels1[i] == 0:\n",
    "        count_0 +=1\n",
    "    else:\n",
    "        count_1 +=1\n",
    "        "
   ]
  },
  {
   "cell_type": "markdown",
   "metadata": {},
   "source": [
    "Muestras en primer cluster:"
   ]
  },
  {
   "cell_type": "code",
   "execution_count": 145,
   "metadata": {},
   "outputs": [
    {
     "data": {
      "text/plain": [
       "1158"
      ]
     },
     "execution_count": 145,
     "metadata": {},
     "output_type": "execute_result"
    }
   ],
   "source": [
    "count_0"
   ]
  },
  {
   "cell_type": "markdown",
   "metadata": {},
   "source": [
    "Muestras en segundo cluster:"
   ]
  },
  {
   "cell_type": "code",
   "execution_count": 146,
   "metadata": {},
   "outputs": [
    {
     "data": {
      "text/plain": [
       "379"
      ]
     },
     "execution_count": 146,
     "metadata": {},
     "output_type": "execute_result"
    }
   ],
   "source": [
    "count_1"
   ]
  },
  {
   "cell_type": "markdown",
   "metadata": {},
   "source": [
    "Subconjunto 2:"
   ]
  },
  {
   "cell_type": "code",
   "execution_count": 155,
   "metadata": {},
   "outputs": [],
   "source": [
    "labels2 = km_model2.labels_\n",
    "count_0 = 0\n",
    "count_1 = 0\n",
    "for i in range(0,len(labels2)):\n",
    "    if labels2[i] == 0:\n",
    "        count_0 +=1\n",
    "    else:\n",
    "        count_1 +=1"
   ]
  },
  {
   "cell_type": "markdown",
   "metadata": {},
   "source": [
    "Muestras en primer cluster:"
   ]
  },
  {
   "cell_type": "code",
   "execution_count": 156,
   "metadata": {},
   "outputs": [
    {
     "data": {
      "text/plain": [
       "1211"
      ]
     },
     "execution_count": 156,
     "metadata": {},
     "output_type": "execute_result"
    }
   ],
   "source": [
    "count_0"
   ]
  },
  {
   "cell_type": "markdown",
   "metadata": {},
   "source": [
    "Muestras en segundo cluster:"
   ]
  },
  {
   "cell_type": "code",
   "execution_count": 157,
   "metadata": {},
   "outputs": [
    {
     "data": {
      "text/plain": [
       "327"
      ]
     },
     "execution_count": 157,
     "metadata": {},
     "output_type": "execute_result"
    }
   ],
   "source": [
    "count_1"
   ]
  },
  {
   "cell_type": "markdown",
   "metadata": {},
   "source": [
    "Se han obtenido los centroides y la agrupación de ambos conjuntos de datos.  Hemos escogido hacer finalmente dos cluster para ver cuantos como los datos se reparten entre sí son fraudulentos o no. Hemos tenido dificultades para poder representar los gráficos y por tanto hemos  indicado cómo se han repartido los puntos en fraudulentos o no. Para ambos casos se ha obtenido que hay una mayor agrupación de datos no fraudulentos\n"
   ]
  },
  {
   "cell_type": "markdown",
   "metadata": {},
   "source": [
    "Por último destacar que hemos asumido que los datos fraudulentos tendrían características similares como para que el algoritmo los pudiera clasificar dentro del mismo cluster. Sin embargo, esto podría no ser así, y que las anomalias fueran datos alejados del comportamiento común de los datos por diferentes motivos, y en ese caso habría que utilizar más  numero de clusters para detectar estos grupos. A la vista del gráfico obtenido con el elbow method, un buen valor a evaluar también sería con K=4 clusters."
   ]
  },
  {
   "cell_type": "markdown",
   "metadata": {},
   "source": [
    "## 6. Ventajas y desventajas de los modelos empleados"
   ]
  },
  {
   "cell_type": "markdown",
   "metadata": {},
   "source": [
    "### 6.1 Isolation Forest"
   ]
  },
  {
   "cell_type": "markdown",
   "metadata": {},
   "source": [
    "El método de Isolation Forest puede ser utilizado tanto de forma supervisada como no supervisada. Está formado por la combinación de múltiples árboles (isolation trees) los cuales se van separando recursivamente creando las ramas del árbol hasta llegar a un nodo terminal. \n",
    "\n",
    "Una ventaja es que la selección de los puntos de división se hace de forma aleatoria, por lo que aquellas divisiones distintas al resto quedarán aisladas en pocas divisiones, lo que hace que la profundidad sea menor que con otros métodos utilizados.\n",
    "Otras ventajas son su diseño sencillo y que es escalable a conjuntos de gran dimensión. \n",
    "\n",
    "Un inconveniente cuando se utiliza este método de forma no supervisada es que no hay forma de conocer el valor óptimo a partir del cual se debe considerar que se trata de una anomalía.  El usuario es el que debe determinar el umbral de valores atípicos.\n"
   ]
  },
  {
   "cell_type": "markdown",
   "metadata": {},
   "source": [
    "### 6.2 K-means"
   ]
  },
  {
   "cell_type": "markdown",
   "metadata": {},
   "source": [
    "Como ventajas, se podría destacar que es un método sencillo de implementar, puede tratar con gran número de datos y es fácil de adaptar. Tiene un buen rendimiento si no se involucran muchas dimensiones y si se sabe el nombre de clusters a definir de manera aproximada.\n",
    "Como desventajas, se podría destacar que a no ser que se tenga información previa de cuantos grupos podría haber, hay que tantear con el valor de k óptimo. Un factor negativo y que ha afectado en esta práctica es que a medida que aumentan las dimensiones de los datos, kmeans se vuelve menos eficaz y es difícil obtener una visualización o conclusión clara de los resultados. Al ser un método de aprendizaje automático no supervisado, no hay una respuesta correcta. Esto hace que la evaluación de los grupos identificados sea un poco subjetiva. Sin embargo, en este caso concreto, sí que se tenían ciertas etiquetas de los datos para realizar las agrupaciones que permiten tener una mejor interpretación de los resultados.\n"
   ]
  },
  {
   "cell_type": "markdown",
   "metadata": {},
   "source": [
    "## 7. Conclusiones"
   ]
  },
  {
   "cell_type": "markdown",
   "metadata": {},
   "source": [
    "Como conclusión podemos destacar que hemos tenido mejor experiencia utilizando el algoritmo de Isolation Forest ya que hemos obtenido unos buenos resultados. Con K-means, debido a las propiedades del algoritmo como la necesidad de conocer el número de clusters ha dificultado encontrar una solución optima."
   ]
  },
  {
   "cell_type": "code",
   "execution_count": null,
   "metadata": {},
   "outputs": [],
   "source": []
  }
 ],
 "metadata": {
  "kernelspec": {
   "display_name": "Python 3",
   "language": "python",
   "name": "python3"
  },
  "language_info": {
   "codemirror_mode": {
    "name": "ipython",
    "version": 3
   },
   "file_extension": ".py",
   "mimetype": "text/x-python",
   "name": "python",
   "nbconvert_exporter": "python",
   "pygments_lexer": "ipython3",
   "version": "3.8.3"
  }
 },
 "nbformat": 4,
 "nbformat_minor": 4
}
